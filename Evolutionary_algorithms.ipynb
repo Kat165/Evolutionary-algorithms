{
  "nbformat": 4,
  "nbformat_minor": 0,
  "metadata": {
    "colab": {
      "provenance": []
    },
    "kernelspec": {
      "name": "python3",
      "display_name": "Python 3"
    },
    "language_info": {
      "name": "python"
    }
  },
  "cells": [
    {
      "cell_type": "code",
      "source": [
        "!pip install openml\n",
        "!pip install --quiet optuna\n",
        "!pip install lightgbm\n",
        "!pip install cmaes"
      ],
      "metadata": {
        "colab": {
          "base_uri": "https://localhost:8080/"
        },
        "id": "LUFrl6Vr_mIt",
        "outputId": "a2487eb0-3b60-47ed-bf14-4a4d7cd80df5"
      },
      "execution_count": 16,
      "outputs": [
        {
          "output_type": "stream",
          "name": "stdout",
          "text": [
            "Requirement already satisfied: openml in /usr/local/lib/python3.10/dist-packages (0.15.0)\n",
            "Requirement already satisfied: liac-arff>=2.4.0 in /usr/local/lib/python3.10/dist-packages (from openml) (2.5.0)\n",
            "Requirement already satisfied: xmltodict in /usr/local/lib/python3.10/dist-packages (from openml) (0.14.2)\n",
            "Requirement already satisfied: requests in /usr/local/lib/python3.10/dist-packages (from openml) (2.32.3)\n",
            "Requirement already satisfied: scikit-learn>=0.18 in /usr/local/lib/python3.10/dist-packages (from openml) (1.5.2)\n",
            "Requirement already satisfied: python-dateutil in /usr/local/lib/python3.10/dist-packages (from openml) (2.8.2)\n",
            "Requirement already satisfied: pandas>=1.0.0 in /usr/local/lib/python3.10/dist-packages (from openml) (2.2.2)\n",
            "Requirement already satisfied: scipy>=0.13.3 in /usr/local/lib/python3.10/dist-packages (from openml) (1.13.1)\n",
            "Requirement already satisfied: numpy>=1.6.2 in /usr/local/lib/python3.10/dist-packages (from openml) (1.26.4)\n",
            "Requirement already satisfied: minio in /usr/local/lib/python3.10/dist-packages (from openml) (7.2.10)\n",
            "Requirement already satisfied: pyarrow in /usr/local/lib/python3.10/dist-packages (from openml) (17.0.0)\n",
            "Requirement already satisfied: tqdm in /usr/local/lib/python3.10/dist-packages (from openml) (4.66.6)\n",
            "Requirement already satisfied: packaging in /usr/local/lib/python3.10/dist-packages (from openml) (24.1)\n",
            "Requirement already satisfied: pytz>=2020.1 in /usr/local/lib/python3.10/dist-packages (from pandas>=1.0.0->openml) (2024.2)\n",
            "Requirement already satisfied: tzdata>=2022.7 in /usr/local/lib/python3.10/dist-packages (from pandas>=1.0.0->openml) (2024.2)\n",
            "Requirement already satisfied: six>=1.5 in /usr/local/lib/python3.10/dist-packages (from python-dateutil->openml) (1.16.0)\n",
            "Requirement already satisfied: joblib>=1.2.0 in /usr/local/lib/python3.10/dist-packages (from scikit-learn>=0.18->openml) (1.4.2)\n",
            "Requirement already satisfied: threadpoolctl>=3.1.0 in /usr/local/lib/python3.10/dist-packages (from scikit-learn>=0.18->openml) (3.5.0)\n",
            "Requirement already satisfied: certifi in /usr/local/lib/python3.10/dist-packages (from minio->openml) (2024.8.30)\n",
            "Requirement already satisfied: urllib3 in /usr/local/lib/python3.10/dist-packages (from minio->openml) (2.2.3)\n",
            "Requirement already satisfied: argon2-cffi in /usr/local/lib/python3.10/dist-packages (from minio->openml) (23.1.0)\n",
            "Requirement already satisfied: pycryptodome in /usr/local/lib/python3.10/dist-packages (from minio->openml) (3.21.0)\n",
            "Requirement already satisfied: typing-extensions in /usr/local/lib/python3.10/dist-packages (from minio->openml) (4.12.2)\n",
            "Requirement already satisfied: charset-normalizer<4,>=2 in /usr/local/lib/python3.10/dist-packages (from requests->openml) (3.4.0)\n",
            "Requirement already satisfied: idna<4,>=2.5 in /usr/local/lib/python3.10/dist-packages (from requests->openml) (3.10)\n",
            "Requirement already satisfied: argon2-cffi-bindings in /usr/local/lib/python3.10/dist-packages (from argon2-cffi->minio->openml) (21.2.0)\n",
            "Requirement already satisfied: cffi>=1.0.1 in /usr/local/lib/python3.10/dist-packages (from argon2-cffi-bindings->argon2-cffi->minio->openml) (1.17.1)\n",
            "Requirement already satisfied: pycparser in /usr/local/lib/python3.10/dist-packages (from cffi>=1.0.1->argon2-cffi-bindings->argon2-cffi->minio->openml) (2.22)\n",
            "Requirement already satisfied: lightgbm in /usr/local/lib/python3.10/dist-packages (4.5.0)\n",
            "Requirement already satisfied: numpy>=1.17.0 in /usr/local/lib/python3.10/dist-packages (from lightgbm) (1.26.4)\n",
            "Requirement already satisfied: scipy in /usr/local/lib/python3.10/dist-packages (from lightgbm) (1.13.1)\n",
            "Collecting cmaes\n",
            "  Downloading cmaes-0.11.1-py3-none-any.whl.metadata (18 kB)\n",
            "Requirement already satisfied: numpy in /usr/local/lib/python3.10/dist-packages (from cmaes) (1.26.4)\n",
            "Downloading cmaes-0.11.1-py3-none-any.whl (35 kB)\n",
            "Installing collected packages: cmaes\n",
            "Successfully installed cmaes-0.11.1\n"
          ]
        }
      ]
    },
    {
      "cell_type": "code",
      "source": [
        "import numpy as np"
      ],
      "metadata": {
        "id": "vwbQKoOQTfIa"
      },
      "execution_count": 17,
      "outputs": []
    },
    {
      "cell_type": "code",
      "source": [
        "import openml\n",
        "import os\n",
        "\n",
        "openml.config.cache_directory = os.path.expanduser('/content/openml_cache')\n",
        "dataset = openml.datasets.get_dataset(40975)\n",
        "\n",
        "x, y, _, _ = dataset.get_data(target=dataset.default_target_attribute)"
      ],
      "metadata": {
        "id": "MAYsYdzK_mGf"
      },
      "execution_count": 18,
      "outputs": []
    },
    {
      "cell_type": "code",
      "source": [
        "x.head()"
      ],
      "metadata": {
        "colab": {
          "base_uri": "https://localhost:8080/",
          "height": 206
        },
        "id": "Szi7rRc-CGvB",
        "outputId": "17954b71-f5b3-49d7-ab41-d5263b8ee522"
      },
      "execution_count": 19,
      "outputs": [
        {
          "output_type": "execute_result",
          "data": {
            "text/plain": [
              "  buying  maint doors persons lug_boot safety\n",
              "0  vhigh  vhigh     2       2    small    low\n",
              "1  vhigh  vhigh     2       2    small    med\n",
              "2  vhigh  vhigh     2       2    small   high\n",
              "3  vhigh  vhigh     2       2      med    low\n",
              "4  vhigh  vhigh     2       2      med    med"
            ],
            "text/html": [
              "\n",
              "  <div id=\"df-60538787-f272-4797-bbc4-1b5921f45aa8\" class=\"colab-df-container\">\n",
              "    <div>\n",
              "<style scoped>\n",
              "    .dataframe tbody tr th:only-of-type {\n",
              "        vertical-align: middle;\n",
              "    }\n",
              "\n",
              "    .dataframe tbody tr th {\n",
              "        vertical-align: top;\n",
              "    }\n",
              "\n",
              "    .dataframe thead th {\n",
              "        text-align: right;\n",
              "    }\n",
              "</style>\n",
              "<table border=\"1\" class=\"dataframe\">\n",
              "  <thead>\n",
              "    <tr style=\"text-align: right;\">\n",
              "      <th></th>\n",
              "      <th>buying</th>\n",
              "      <th>maint</th>\n",
              "      <th>doors</th>\n",
              "      <th>persons</th>\n",
              "      <th>lug_boot</th>\n",
              "      <th>safety</th>\n",
              "    </tr>\n",
              "  </thead>\n",
              "  <tbody>\n",
              "    <tr>\n",
              "      <th>0</th>\n",
              "      <td>vhigh</td>\n",
              "      <td>vhigh</td>\n",
              "      <td>2</td>\n",
              "      <td>2</td>\n",
              "      <td>small</td>\n",
              "      <td>low</td>\n",
              "    </tr>\n",
              "    <tr>\n",
              "      <th>1</th>\n",
              "      <td>vhigh</td>\n",
              "      <td>vhigh</td>\n",
              "      <td>2</td>\n",
              "      <td>2</td>\n",
              "      <td>small</td>\n",
              "      <td>med</td>\n",
              "    </tr>\n",
              "    <tr>\n",
              "      <th>2</th>\n",
              "      <td>vhigh</td>\n",
              "      <td>vhigh</td>\n",
              "      <td>2</td>\n",
              "      <td>2</td>\n",
              "      <td>small</td>\n",
              "      <td>high</td>\n",
              "    </tr>\n",
              "    <tr>\n",
              "      <th>3</th>\n",
              "      <td>vhigh</td>\n",
              "      <td>vhigh</td>\n",
              "      <td>2</td>\n",
              "      <td>2</td>\n",
              "      <td>med</td>\n",
              "      <td>low</td>\n",
              "    </tr>\n",
              "    <tr>\n",
              "      <th>4</th>\n",
              "      <td>vhigh</td>\n",
              "      <td>vhigh</td>\n",
              "      <td>2</td>\n",
              "      <td>2</td>\n",
              "      <td>med</td>\n",
              "      <td>med</td>\n",
              "    </tr>\n",
              "  </tbody>\n",
              "</table>\n",
              "</div>\n",
              "    <div class=\"colab-df-buttons\">\n",
              "\n",
              "  <div class=\"colab-df-container\">\n",
              "    <button class=\"colab-df-convert\" onclick=\"convertToInteractive('df-60538787-f272-4797-bbc4-1b5921f45aa8')\"\n",
              "            title=\"Convert this dataframe to an interactive table.\"\n",
              "            style=\"display:none;\">\n",
              "\n",
              "  <svg xmlns=\"http://www.w3.org/2000/svg\" height=\"24px\" viewBox=\"0 -960 960 960\">\n",
              "    <path d=\"M120-120v-720h720v720H120Zm60-500h600v-160H180v160Zm220 220h160v-160H400v160Zm0 220h160v-160H400v160ZM180-400h160v-160H180v160Zm440 0h160v-160H620v160ZM180-180h160v-160H180v160Zm440 0h160v-160H620v160Z\"/>\n",
              "  </svg>\n",
              "    </button>\n",
              "\n",
              "  <style>\n",
              "    .colab-df-container {\n",
              "      display:flex;\n",
              "      gap: 12px;\n",
              "    }\n",
              "\n",
              "    .colab-df-convert {\n",
              "      background-color: #E8F0FE;\n",
              "      border: none;\n",
              "      border-radius: 50%;\n",
              "      cursor: pointer;\n",
              "      display: none;\n",
              "      fill: #1967D2;\n",
              "      height: 32px;\n",
              "      padding: 0 0 0 0;\n",
              "      width: 32px;\n",
              "    }\n",
              "\n",
              "    .colab-df-convert:hover {\n",
              "      background-color: #E2EBFA;\n",
              "      box-shadow: 0px 1px 2px rgba(60, 64, 67, 0.3), 0px 1px 3px 1px rgba(60, 64, 67, 0.15);\n",
              "      fill: #174EA6;\n",
              "    }\n",
              "\n",
              "    .colab-df-buttons div {\n",
              "      margin-bottom: 4px;\n",
              "    }\n",
              "\n",
              "    [theme=dark] .colab-df-convert {\n",
              "      background-color: #3B4455;\n",
              "      fill: #D2E3FC;\n",
              "    }\n",
              "\n",
              "    [theme=dark] .colab-df-convert:hover {\n",
              "      background-color: #434B5C;\n",
              "      box-shadow: 0px 1px 3px 1px rgba(0, 0, 0, 0.15);\n",
              "      filter: drop-shadow(0px 1px 2px rgba(0, 0, 0, 0.3));\n",
              "      fill: #FFFFFF;\n",
              "    }\n",
              "  </style>\n",
              "\n",
              "    <script>\n",
              "      const buttonEl =\n",
              "        document.querySelector('#df-60538787-f272-4797-bbc4-1b5921f45aa8 button.colab-df-convert');\n",
              "      buttonEl.style.display =\n",
              "        google.colab.kernel.accessAllowed ? 'block' : 'none';\n",
              "\n",
              "      async function convertToInteractive(key) {\n",
              "        const element = document.querySelector('#df-60538787-f272-4797-bbc4-1b5921f45aa8');\n",
              "        const dataTable =\n",
              "          await google.colab.kernel.invokeFunction('convertToInteractive',\n",
              "                                                    [key], {});\n",
              "        if (!dataTable) return;\n",
              "\n",
              "        const docLinkHtml = 'Like what you see? Visit the ' +\n",
              "          '<a target=\"_blank\" href=https://colab.research.google.com/notebooks/data_table.ipynb>data table notebook</a>'\n",
              "          + ' to learn more about interactive tables.';\n",
              "        element.innerHTML = '';\n",
              "        dataTable['output_type'] = 'display_data';\n",
              "        await google.colab.output.renderOutput(dataTable, element);\n",
              "        const docLink = document.createElement('div');\n",
              "        docLink.innerHTML = docLinkHtml;\n",
              "        element.appendChild(docLink);\n",
              "      }\n",
              "    </script>\n",
              "  </div>\n",
              "\n",
              "\n",
              "<div id=\"df-06918920-fbce-4298-8b3f-1ffe4e3056e3\">\n",
              "  <button class=\"colab-df-quickchart\" onclick=\"quickchart('df-06918920-fbce-4298-8b3f-1ffe4e3056e3')\"\n",
              "            title=\"Suggest charts\"\n",
              "            style=\"display:none;\">\n",
              "\n",
              "<svg xmlns=\"http://www.w3.org/2000/svg\" height=\"24px\"viewBox=\"0 0 24 24\"\n",
              "     width=\"24px\">\n",
              "    <g>\n",
              "        <path d=\"M19 3H5c-1.1 0-2 .9-2 2v14c0 1.1.9 2 2 2h14c1.1 0 2-.9 2-2V5c0-1.1-.9-2-2-2zM9 17H7v-7h2v7zm4 0h-2V7h2v10zm4 0h-2v-4h2v4z\"/>\n",
              "    </g>\n",
              "</svg>\n",
              "  </button>\n",
              "\n",
              "<style>\n",
              "  .colab-df-quickchart {\n",
              "      --bg-color: #E8F0FE;\n",
              "      --fill-color: #1967D2;\n",
              "      --hover-bg-color: #E2EBFA;\n",
              "      --hover-fill-color: #174EA6;\n",
              "      --disabled-fill-color: #AAA;\n",
              "      --disabled-bg-color: #DDD;\n",
              "  }\n",
              "\n",
              "  [theme=dark] .colab-df-quickchart {\n",
              "      --bg-color: #3B4455;\n",
              "      --fill-color: #D2E3FC;\n",
              "      --hover-bg-color: #434B5C;\n",
              "      --hover-fill-color: #FFFFFF;\n",
              "      --disabled-bg-color: #3B4455;\n",
              "      --disabled-fill-color: #666;\n",
              "  }\n",
              "\n",
              "  .colab-df-quickchart {\n",
              "    background-color: var(--bg-color);\n",
              "    border: none;\n",
              "    border-radius: 50%;\n",
              "    cursor: pointer;\n",
              "    display: none;\n",
              "    fill: var(--fill-color);\n",
              "    height: 32px;\n",
              "    padding: 0;\n",
              "    width: 32px;\n",
              "  }\n",
              "\n",
              "  .colab-df-quickchart:hover {\n",
              "    background-color: var(--hover-bg-color);\n",
              "    box-shadow: 0 1px 2px rgba(60, 64, 67, 0.3), 0 1px 3px 1px rgba(60, 64, 67, 0.15);\n",
              "    fill: var(--button-hover-fill-color);\n",
              "  }\n",
              "\n",
              "  .colab-df-quickchart-complete:disabled,\n",
              "  .colab-df-quickchart-complete:disabled:hover {\n",
              "    background-color: var(--disabled-bg-color);\n",
              "    fill: var(--disabled-fill-color);\n",
              "    box-shadow: none;\n",
              "  }\n",
              "\n",
              "  .colab-df-spinner {\n",
              "    border: 2px solid var(--fill-color);\n",
              "    border-color: transparent;\n",
              "    border-bottom-color: var(--fill-color);\n",
              "    animation:\n",
              "      spin 1s steps(1) infinite;\n",
              "  }\n",
              "\n",
              "  @keyframes spin {\n",
              "    0% {\n",
              "      border-color: transparent;\n",
              "      border-bottom-color: var(--fill-color);\n",
              "      border-left-color: var(--fill-color);\n",
              "    }\n",
              "    20% {\n",
              "      border-color: transparent;\n",
              "      border-left-color: var(--fill-color);\n",
              "      border-top-color: var(--fill-color);\n",
              "    }\n",
              "    30% {\n",
              "      border-color: transparent;\n",
              "      border-left-color: var(--fill-color);\n",
              "      border-top-color: var(--fill-color);\n",
              "      border-right-color: var(--fill-color);\n",
              "    }\n",
              "    40% {\n",
              "      border-color: transparent;\n",
              "      border-right-color: var(--fill-color);\n",
              "      border-top-color: var(--fill-color);\n",
              "    }\n",
              "    60% {\n",
              "      border-color: transparent;\n",
              "      border-right-color: var(--fill-color);\n",
              "    }\n",
              "    80% {\n",
              "      border-color: transparent;\n",
              "      border-right-color: var(--fill-color);\n",
              "      border-bottom-color: var(--fill-color);\n",
              "    }\n",
              "    90% {\n",
              "      border-color: transparent;\n",
              "      border-bottom-color: var(--fill-color);\n",
              "    }\n",
              "  }\n",
              "</style>\n",
              "\n",
              "  <script>\n",
              "    async function quickchart(key) {\n",
              "      const quickchartButtonEl =\n",
              "        document.querySelector('#' + key + ' button');\n",
              "      quickchartButtonEl.disabled = true;  // To prevent multiple clicks.\n",
              "      quickchartButtonEl.classList.add('colab-df-spinner');\n",
              "      try {\n",
              "        const charts = await google.colab.kernel.invokeFunction(\n",
              "            'suggestCharts', [key], {});\n",
              "      } catch (error) {\n",
              "        console.error('Error during call to suggestCharts:', error);\n",
              "      }\n",
              "      quickchartButtonEl.classList.remove('colab-df-spinner');\n",
              "      quickchartButtonEl.classList.add('colab-df-quickchart-complete');\n",
              "    }\n",
              "    (() => {\n",
              "      let quickchartButtonEl =\n",
              "        document.querySelector('#df-06918920-fbce-4298-8b3f-1ffe4e3056e3 button');\n",
              "      quickchartButtonEl.style.display =\n",
              "        google.colab.kernel.accessAllowed ? 'block' : 'none';\n",
              "    })();\n",
              "  </script>\n",
              "</div>\n",
              "\n",
              "    </div>\n",
              "  </div>\n"
            ],
            "application/vnd.google.colaboratory.intrinsic+json": {
              "type": "dataframe",
              "variable_name": "x",
              "summary": "{\n  \"name\": \"x\",\n  \"rows\": 1728,\n  \"fields\": [\n    {\n      \"column\": \"buying\",\n      \"properties\": {\n        \"dtype\": \"category\",\n        \"num_unique_values\": 4,\n        \"samples\": [\n          \"high\",\n          \"low\",\n          \"vhigh\"\n        ],\n        \"semantic_type\": \"\",\n        \"description\": \"\"\n      }\n    },\n    {\n      \"column\": \"maint\",\n      \"properties\": {\n        \"dtype\": \"category\",\n        \"num_unique_values\": 4,\n        \"samples\": [\n          \"high\",\n          \"low\",\n          \"vhigh\"\n        ],\n        \"semantic_type\": \"\",\n        \"description\": \"\"\n      }\n    },\n    {\n      \"column\": \"doors\",\n      \"properties\": {\n        \"dtype\": \"category\",\n        \"num_unique_values\": 4,\n        \"samples\": [\n          \"3\",\n          \"5more\",\n          \"2\"\n        ],\n        \"semantic_type\": \"\",\n        \"description\": \"\"\n      }\n    },\n    {\n      \"column\": \"persons\",\n      \"properties\": {\n        \"dtype\": \"category\",\n        \"num_unique_values\": 3,\n        \"samples\": [\n          \"2\",\n          \"4\",\n          \"more\"\n        ],\n        \"semantic_type\": \"\",\n        \"description\": \"\"\n      }\n    },\n    {\n      \"column\": \"lug_boot\",\n      \"properties\": {\n        \"dtype\": \"category\",\n        \"num_unique_values\": 3,\n        \"samples\": [\n          \"small\",\n          \"med\",\n          \"big\"\n        ],\n        \"semantic_type\": \"\",\n        \"description\": \"\"\n      }\n    },\n    {\n      \"column\": \"safety\",\n      \"properties\": {\n        \"dtype\": \"category\",\n        \"num_unique_values\": 3,\n        \"samples\": [\n          \"low\",\n          \"med\",\n          \"high\"\n        ],\n        \"semantic_type\": \"\",\n        \"description\": \"\"\n      }\n    }\n  ]\n}"
            }
          },
          "metadata": {},
          "execution_count": 19
        }
      ]
    },
    {
      "cell_type": "code",
      "source": [
        "y.unique()"
      ],
      "metadata": {
        "colab": {
          "base_uri": "https://localhost:8080/"
        },
        "id": "lznbpZrnBWoh",
        "outputId": "85fd302f-68b5-456a-f4a5-1f97336326ed"
      },
      "execution_count": 20,
      "outputs": [
        {
          "output_type": "execute_result",
          "data": {
            "text/plain": [
              "['unacc', 'acc', 'vgood', 'good']\n",
              "Categories (4, object): ['unacc' < 'acc' < 'good' < 'vgood']"
            ]
          },
          "metadata": {},
          "execution_count": 20
        }
      ]
    },
    {
      "cell_type": "code",
      "source": [
        "from sklearn.preprocessing import LabelEncoder\n",
        "\n",
        "label_encoder = LabelEncoder()\n",
        "y = label_encoder.fit_transform(y)"
      ],
      "metadata": {
        "id": "4NcMYc17Is-X"
      },
      "execution_count": 21,
      "outputs": []
    },
    {
      "cell_type": "code",
      "source": [
        "np.bincount(y)"
      ],
      "metadata": {
        "colab": {
          "base_uri": "https://localhost:8080/"
        },
        "id": "o4Zw49DqKodH",
        "outputId": "70033b1d-dad5-42dd-d410-034864eaaefb"
      },
      "execution_count": 22,
      "outputs": [
        {
          "output_type": "execute_result",
          "data": {
            "text/plain": [
              "array([ 384,   69, 1210,   65])"
            ]
          },
          "metadata": {},
          "execution_count": 22
        }
      ]
    },
    {
      "cell_type": "markdown",
      "source": [
        "## Training a lightgbm model"
      ],
      "metadata": {
        "id": "VMLy6XskFfnQ"
      }
    },
    {
      "cell_type": "code",
      "source": [
        "from sklearn.model_selection import train_test_split\n",
        "\n",
        "x_train, x_test, y_train, y_test = train_test_split(x, y, test_size=0.2, random_state=42)\n",
        "\n",
        "print(\"Training set shape:\", x_train.shape)\n",
        "print(\"Testing set shape:\", x_test.shape)"
      ],
      "metadata": {
        "colab": {
          "base_uri": "https://localhost:8080/"
        },
        "id": "Pw40Av0U_mC9",
        "outputId": "fb02e883-527e-4d6b-a98a-fcb92319b527"
      },
      "execution_count": 23,
      "outputs": [
        {
          "output_type": "stream",
          "name": "stdout",
          "text": [
            "Training set shape: (1382, 6)\n",
            "Testing set shape: (346, 6)\n"
          ]
        }
      ]
    },
    {
      "cell_type": "code",
      "source": [
        "import lightgbm as lgb\n",
        "import numpy as np\n",
        "from sklearn.metrics import accuracy_score\n",
        "\n",
        "categorical_features = ['buying', 'maint', 'lug_boot', 'safety']\n",
        "train_data = lgb.Dataset(x_train, label=y_train, categorical_feature=categorical_features)\n",
        "test_data = lgb.Dataset(x_test, label=y_test, reference=train_data)\n",
        "\n",
        "params = {\n",
        "    'objective': 'multiclass',\n",
        "    'metric': 'multi_logloss',\n",
        "    'num_class': len(np.unique(y)),\n",
        "    'is_unbalance': 'true',\n",
        "    'boosting_type': 'gbdt',\n",
        "    'is_unbalance': 'true',\n",
        "    'num_leaves': 31,\n",
        "    'learning_rate': 0.05,\n",
        "    'feature_fraction': 0.9,\n",
        "    'bagging_fraction': 0.8,\n",
        "    'bagging_freq': 5,\n",
        "    'verbose': 1\n",
        "}"
      ],
      "metadata": {
        "id": "3v5USs_I_l_7"
      },
      "execution_count": 24,
      "outputs": []
    },
    {
      "cell_type": "code",
      "execution_count": 25,
      "metadata": {
        "colab": {
          "base_uri": "https://localhost:8080/"
        },
        "id": "mBFie6wl_i0Z",
        "outputId": "ba471054-7d4e-4642-9d05-ecfa36d4d930"
      },
      "outputs": [
        {
          "output_type": "stream",
          "name": "stdout",
          "text": [
            "[LightGBM] [Info] Auto-choosing col-wise multi-threading, the overhead of testing was 0.000190 seconds.\n",
            "You can set `force_col_wise=true` to remove the overhead.\n",
            "[LightGBM] [Info] Total Bins 25\n",
            "[LightGBM] [Info] Number of data points in the train set: 1382, number of used features: 6\n",
            "[LightGBM] [Info] Start training from score -1.524177\n",
            "[LightGBM] [Info] Start training from score -3.170844\n",
            "[LightGBM] [Info] Start training from score -0.348850\n",
            "[LightGBM] [Info] Start training from score -3.360086\n",
            "[LightGBM] [Warning] No further splits with positive gain, best gain: -inf\n",
            "[LightGBM] [Warning] No further splits with positive gain, best gain: -inf\n",
            "[LightGBM] [Warning] No further splits with positive gain, best gain: -inf\n",
            "[LightGBM] [Warning] No further splits with positive gain, best gain: -inf\n",
            "[LightGBM] [Warning] No further splits with positive gain, best gain: -inf\n",
            "[LightGBM] [Warning] No further splits with positive gain, best gain: -inf\n",
            "[LightGBM] [Warning] No further splits with positive gain, best gain: -inf\n"
          ]
        }
      ],
      "source": [
        "lgb_model = lgb.train(params, train_data, valid_sets=[train_data, test_data], num_boost_round=10)"
      ]
    },
    {
      "cell_type": "code",
      "source": [
        "y_pred = lgb_model.predict(x_test, num_iteration=lgb_model.best_iteration)\n",
        "y_pred_class = [list(pred).index(max(pred)) for pred in y_pred]\n",
        "\n",
        "accuracy = accuracy_score(y_test, y_pred_class)\n",
        "print(f\"Accuracy: {accuracy * 100:.2f}%\")"
      ],
      "metadata": {
        "colab": {
          "base_uri": "https://localhost:8080/"
        },
        "id": "bduTLAPKEINk",
        "outputId": "88961111-342d-4885-de0b-8972d72291c6"
      },
      "execution_count": 26,
      "outputs": [
        {
          "output_type": "stream",
          "name": "stdout",
          "text": [
            "Accuracy: 71.10%\n"
          ]
        }
      ]
    },
    {
      "cell_type": "code",
      "source": [
        "import matplotlib.pyplot as plt\n",
        "\n",
        "lgb.plot_importance(lgb_model, importance_type='split')\n",
        "plt.show()"
      ],
      "metadata": {
        "colab": {
          "base_uri": "https://localhost:8080/",
          "height": 472
        },
        "id": "idemkxFzGrn2",
        "outputId": "3fab216f-75fb-4624-9573-d87044331b74"
      },
      "execution_count": 27,
      "outputs": [
        {
          "output_type": "display_data",
          "data": {
            "text/plain": [
              "<Figure size 640x480 with 1 Axes>"
            ],
            "image/png": "[encoded data removed]"
          },
          "metadata": {}
        }
      ]
    },
    {
      "cell_type": "markdown",
      "source": [
        "## Optuna"
      ],
      "metadata": {
        "id": "caai3_oRFcBI"
      }
    },
    {
      "cell_type": "code",
      "source": [
        "import optuna\n",
        "from sklearn.model_selection import StratifiedKFold\n",
        "\n",
        "def objective(trial):\n",
        "\n",
        "    params = {\n",
        "        'objective': 'multiclass',\n",
        "        'metric': 'multi_logloss',\n",
        "        'num_class': len(np.unique(y)),\n",
        "        'is_unbalance': 'true',\n",
        "        'learning_rate': trial.suggest_float(\"learning_rate\", 0.01, 0.3, log=True),\n",
        "        'num_leaves': trial.suggest_int(\"num_leaves\", 20, 150),\n",
        "        'min_data_in_leaf': trial.suggest_int(\"min_data_in_leaf\", 20, 100),\n",
        "        'feature_fraction': trial.suggest_float(\"feature_fraction\", 0.5, 0.9),\n",
        "        'bagging_fraction': trial.suggest_float(\"bagging_fraction\", 0.5, 0.9),\n",
        "        'bagging_freq': trial.suggest_int(\"bagging_freq\", 1, 10),\n",
        "        'lambda_l1': trial.suggest_float(\"lambda_l1\", 1e-8, 10.0, log=True),\n",
        "        'lambda_l2': trial.suggest_float(\"lambda_l2\", 1e-8, 10.0, log=True),\n",
        "        'verbose': -1\n",
        "    }\n",
        "\n",
        "    categorical_features = ['lug_boot', 'safety']\n",
        "    train_data = lgb.Dataset(x_train, label=y_train, categorical_feature=categorical_features)\n",
        "    test_data = lgb.Dataset(x_test, label=y_test, reference=train_data)\n",
        "\n",
        "    lgb_model = lgb.train(params, train_data, valid_sets=[train_data, test_data], num_boost_round=10)\n",
        "\n",
        "    y_pred = lgb_model.predict(x_test, num_iteration=lgb_model.best_iteration)\n",
        "    y_pred_class = [list(pred).index(max(pred)) for pred in y_pred]\n",
        "\n",
        "    accuracy = accuracy_score(y_test, y_pred_class)\n",
        "\n",
        "    return accuracy"
      ],
      "metadata": {
        "id": "_FrAymr4Fbqw"
      },
      "execution_count": 28,
      "outputs": []
    },
    {
      "cell_type": "code",
      "source": [
        "study = optuna.create_study(direction=\"maximize\")\n",
        "study.optimize(objective, n_trials=100)\n",
        "\n",
        "trial = study.best_trial\n",
        "\n",
        "print(\"Accuracy: {}\".format(trial.value))\n",
        "print(\"Best hyperparameters: {}\".format(trial.params))"
      ],
      "metadata": {
        "colab": {
          "base_uri": "https://localhost:8080/"
        },
        "id": "yuz-00fqFsUR",
        "outputId": "f8617c04-55c2-440d-d39b-391507982d44"
      },
      "execution_count": 29,
      "outputs": [
        {
          "output_type": "stream",
          "name": "stderr",
          "text": [
            "[I 2024-11-03 17:50:54,675] A new study created in memory with name: no-name-4766b530-7637-4071-957d-452f05285f47\n",
            "[I 2024-11-03 17:50:54,743] Trial 0 finished with value: 0.6791907514450867 and parameters: {'learning_rate': 0.027197321754902484, 'num_leaves': 104, 'min_data_in_leaf': 47, 'feature_fraction': 0.894505699302973, 'bagging_fraction': 0.6647611415563787, 'bagging_freq': 4, 'lambda_l1': 6.121676340202521e-08, 'lambda_l2': 0.04074385883670935}. Best is trial 0 with value: 0.6791907514450867.\n",
            "[I 2024-11-03 17:50:55,140] Trial 1 finished with value: 0.815028901734104 and parameters: {'learning_rate': 0.12938461575663504, 'num_leaves': 74, 'min_data_in_leaf': 97, 'feature_fraction': 0.7443959038420721, 'bagging_fraction': 0.8235193566942719, 'bagging_freq': 4, 'lambda_l1': 0.007770921883101949, 'lambda_l2': 0.03753133791921001}. Best is trial 1 with value: 0.815028901734104.\n",
            "[I 2024-11-03 17:50:55,421] Trial 2 finished with value: 0.9046242774566474 and parameters: {'learning_rate': 0.15944351032523202, 'num_leaves': 131, 'min_data_in_leaf': 71, 'feature_fraction': 0.7839003478374935, 'bagging_fraction': 0.6020067270691913, 'bagging_freq': 5, 'lambda_l1': 6.85393786524658e-06, 'lambda_l2': 0.31312983634770186}. Best is trial 2 with value: 0.9046242774566474.\n",
            "[I 2024-11-03 17:50:55,467] Trial 3 finished with value: 0.6791907514450867 and parameters: {'learning_rate': 0.041797035839135036, 'num_leaves': 116, 'min_data_in_leaf': 43, 'feature_fraction': 0.7659037765883594, 'bagging_fraction': 0.8934915720907117, 'bagging_freq': 1, 'lambda_l1': 1.2878704899437836e-08, 'lambda_l2': 8.065543375136961}. Best is trial 2 with value: 0.9046242774566474.\n",
            "[I 2024-11-03 17:50:55,506] Trial 4 finished with value: 0.8959537572254336 and parameters: {'learning_rate': 0.12842155576752073, 'num_leaves': 39, 'min_data_in_leaf': 80, 'feature_fraction': 0.8721691273735667, 'bagging_fraction': 0.897973224938398, 'bagging_freq': 10, 'lambda_l1': 0.004964032158571252, 'lambda_l2': 2.1657083518133174e-05}. Best is trial 2 with value: 0.9046242774566474.\n",
            "[I 2024-11-03 17:50:55,560] Trial 5 finished with value: 0.6791907514450867 and parameters: {'learning_rate': 0.016005108650902114, 'num_leaves': 104, 'min_data_in_leaf': 44, 'feature_fraction': 0.6600627590142366, 'bagging_fraction': 0.6259229056304649, 'bagging_freq': 4, 'lambda_l1': 0.017937481525135586, 'lambda_l2': 5.431149110042199e-06}. Best is trial 2 with value: 0.9046242774566474.\n",
            "[I 2024-11-03 17:50:55,979] Trial 6 finished with value: 0.7658959537572254 and parameters: {'learning_rate': 0.07742583804270521, 'num_leaves': 27, 'min_data_in_leaf': 93, 'feature_fraction': 0.8672393734668771, 'bagging_fraction': 0.7774801137569051, 'bagging_freq': 10, 'lambda_l1': 0.0007024189243473135, 'lambda_l2': 0.0004983066504516464}. Best is trial 2 with value: 0.9046242774566474.\n",
            "[I 2024-11-03 17:50:56,022] Trial 7 finished with value: 0.6791907514450867 and parameters: {'learning_rate': 0.010765782559712505, 'num_leaves': 149, 'min_data_in_leaf': 71, 'feature_fraction': 0.7769062976151857, 'bagging_fraction': 0.8967861085918776, 'bagging_freq': 9, 'lambda_l1': 2.505493209752897e-06, 'lambda_l2': 8.402276265337102e-08}. Best is trial 2 with value: 0.9046242774566474.\n",
            "[I 2024-11-03 17:50:56,107] Trial 8 finished with value: 0.6791907514450867 and parameters: {'learning_rate': 0.04275866790766107, 'num_leaves': 81, 'min_data_in_leaf': 66, 'feature_fraction': 0.61811248926952, 'bagging_fraction': 0.8535595092224537, 'bagging_freq': 10, 'lambda_l1': 8.281008064014304e-07, 'lambda_l2': 0.00025110238796333296}. Best is trial 2 with value: 0.9046242774566474.\n",
            "[I 2024-11-03 17:50:56,358] Trial 9 finished with value: 0.8728323699421965 and parameters: {'learning_rate': 0.2947241674571531, 'num_leaves': 125, 'min_data_in_leaf': 88, 'feature_fraction': 0.7340573522643048, 'bagging_fraction': 0.5298840971009261, 'bagging_freq': 7, 'lambda_l1': 0.00025680599559416275, 'lambda_l2': 0.0006095791105930696}. Best is trial 2 with value: 0.9046242774566474.\n",
            "[I 2024-11-03 17:50:57,279] Trial 10 finished with value: 0.8670520231213873 and parameters: {'learning_rate': 0.2805759343600311, 'num_leaves': 142, 'min_data_in_leaf': 28, 'feature_fraction': 0.5947675445968418, 'bagging_fraction': 0.5186640816480335, 'bagging_freq': 1, 'lambda_l1': 5.8487758697841405, 'lambda_l2': 6.412621726385861}. Best is trial 2 with value: 0.9046242774566474.\n",
            "[I 2024-11-03 17:50:57,622] Trial 11 finished with value: 0.7803468208092486 and parameters: {'learning_rate': 0.13136290450974064, 'num_leaves': 31, 'min_data_in_leaf': 75, 'feature_fraction': 0.500408425796328, 'bagging_fraction': 0.7260495279806254, 'bagging_freq': 7, 'lambda_l1': 2.1378255405218944e-05, 'lambda_l2': 1.3740791605467317e-06}. Best is trial 2 with value: 0.9046242774566474.\n",
            "[I 2024-11-03 17:50:58,812] Trial 12 finished with value: 0.8786127167630058 and parameters: {'learning_rate': 0.13935267275457686, 'num_leaves': 52, 'min_data_in_leaf': 81, 'feature_fraction': 0.8324258241080611, 'bagging_fraction': 0.6009239515046583, 'bagging_freq': 6, 'lambda_l1': 0.22458473216083985, 'lambda_l2': 0.04394604244862181}. Best is trial 2 with value: 0.9046242774566474.\n",
            "[I 2024-11-03 17:50:59,846] Trial 13 finished with value: 0.8092485549132948 and parameters: {'learning_rate': 0.08035394815310733, 'num_leaves': 57, 'min_data_in_leaf': 56, 'feature_fraction': 0.8169705831433598, 'bagging_fraction': 0.7150896094650485, 'bagging_freq': 8, 'lambda_l1': 6.447255947871077e-05, 'lambda_l2': 3.337365427416006e-05}. Best is trial 2 with value: 0.9046242774566474.\n",
            "[I 2024-11-03 17:51:00,984] Trial 14 finished with value: 0.8872832369942196 and parameters: {'learning_rate': 0.2001394510573235, 'num_leaves': 56, 'min_data_in_leaf': 82, 'feature_fraction': 0.8200422555669871, 'bagging_fraction': 0.5828293643719092, 'bagging_freq': 5, 'lambda_l1': 0.007144849440900149, 'lambda_l2': 1.4109225545537861e-08}. Best is trial 2 with value: 0.9046242774566474.\n",
            "[I 2024-11-03 17:51:01,534] Trial 15 finished with value: 0.6936416184971098 and parameters: {'learning_rate': 0.07350389049843517, 'num_leaves': 95, 'min_data_in_leaf': 59, 'feature_fraction': 0.6989949770376335, 'bagging_fraction': 0.7659243004706505, 'bagging_freq': 3, 'lambda_l1': 6.334473799281423e-06, 'lambda_l2': 0.6305998032774707}. Best is trial 2 with value: 0.9046242774566474.\n",
            "[I 2024-11-03 17:51:02,214] Trial 16 finished with value: 0.9075144508670521 and parameters: {'learning_rate': 0.17765572234253438, 'num_leaves': 132, 'min_data_in_leaf': 66, 'feature_fraction': 0.8982300963087114, 'bagging_fraction': 0.6581629146252969, 'bagging_freq': 6, 'lambda_l1': 0.23863022029931316, 'lambda_l2': 0.006498310698846113}. Best is trial 16 with value: 0.9075144508670521.\n",
            "[I 2024-11-03 17:51:02,510] Trial 17 finished with value: 0.9161849710982659 and parameters: {'learning_rate': 0.19711352484467232, 'num_leaves': 134, 'min_data_in_leaf': 22, 'feature_fraction': 0.8080945813296072, 'bagging_fraction': 0.6689465455767318, 'bagging_freq': 6, 'lambda_l1': 5.390080182788241, 'lambda_l2': 0.36058956693212907}. Best is trial 17 with value: 0.9161849710982659.\n",
            "[I 2024-11-03 17:51:03,062] Trial 18 finished with value: 0.9335260115606936 and parameters: {'learning_rate': 0.19917405184337075, 'num_leaves': 134, 'min_data_in_leaf': 24, 'feature_fraction': 0.8434909372264556, 'bagging_fraction': 0.6578030032291995, 'bagging_freq': 7, 'lambda_l1': 4.9764981833643676, 'lambda_l2': 0.004456007474335375}. Best is trial 18 with value: 0.9335260115606936.\n",
            "[I 2024-11-03 17:51:03,333] Trial 19 finished with value: 0.930635838150289 and parameters: {'learning_rate': 0.2117396492856709, 'num_leaves': 115, 'min_data_in_leaf': 20, 'feature_fraction': 0.8170448175496123, 'bagging_fraction': 0.6775794967778551, 'bagging_freq': 8, 'lambda_l1': 5.55509840568997, 'lambda_l2': 0.0037679306404878902}. Best is trial 18 with value: 0.9335260115606936.\n",
            "[I 2024-11-03 17:51:04,392] Trial 20 finished with value: 0.7976878612716763 and parameters: {'learning_rate': 0.10307555655116139, 'num_leaves': 114, 'min_data_in_leaf': 35, 'feature_fraction': 0.7128597073800288, 'bagging_fraction': 0.5554269003433223, 'bagging_freq': 8, 'lambda_l1': 0.48736130077888823, 'lambda_l2': 0.005089829772580512}. Best is trial 18 with value: 0.9335260115606936.\n",
            "[I 2024-11-03 17:51:04,734] Trial 21 finished with value: 0.9364161849710982 and parameters: {'learning_rate': 0.22559842502418945, 'num_leaves': 140, 'min_data_in_leaf': 21, 'feature_fraction': 0.8381526636719581, 'bagging_fraction': 0.6694990935222855, 'bagging_freq': 7, 'lambda_l1': 3.965284858829604, 'lambda_l2': 0.004095981391977149}. Best is trial 21 with value: 0.9364161849710982.\n",
            "[I 2024-11-03 17:51:05,488] Trial 22 finished with value: 0.9450867052023122 and parameters: {'learning_rate': 0.24429822191811948, 'num_leaves': 149, 'min_data_in_leaf': 20, 'feature_fraction': 0.8492106571527737, 'bagging_fraction': 0.7014400695930818, 'bagging_freq': 8, 'lambda_l1': 1.0677785164548657, 'lambda_l2': 0.003410155371695532}. Best is trial 22 with value: 0.9450867052023122.\n",
            "[I 2024-11-03 17:51:06,122] Trial 23 finished with value: 0.9421965317919075 and parameters: {'learning_rate': 0.2657575280999091, 'num_leaves': 150, 'min_data_in_leaf': 32, 'feature_fraction': 0.855809877968479, 'bagging_fraction': 0.7475813474945431, 'bagging_freq': 7, 'lambda_l1': 0.7199054053151605, 'lambda_l2': 9.364594079317618e-05}. Best is trial 22 with value: 0.9450867052023122.\n",
            "[I 2024-11-03 17:51:06,368] Trial 24 finished with value: 0.9364161849710982 and parameters: {'learning_rate': 0.2898520634079981, 'num_leaves': 150, 'min_data_in_leaf': 33, 'feature_fraction': 0.8591300785910266, 'bagging_fraction': 0.7405162170066295, 'bagging_freq': 9, 'lambda_l1': 0.8248110187914092, 'lambda_l2': 0.0001617287455452781}. Best is trial 22 with value: 0.9450867052023122.\n",
            "[I 2024-11-03 17:51:07,623] Trial 25 finished with value: 0.9566473988439307 and parameters: {'learning_rate': 0.25567007180506474, 'num_leaves': 142, 'min_data_in_leaf': 33, 'feature_fraction': 0.8612824973399303, 'bagging_fraction': 0.7934724055470045, 'bagging_freq': 9, 'lambda_l1': 0.027174836196822958, 'lambda_l2': 3.495780631826754e-05}. Best is trial 25 with value: 0.9566473988439307.\n",
            "[I 2024-11-03 17:51:07,899] Trial 26 finished with value: 0.9104046242774566 and parameters: {'learning_rate': 0.09898018465739407, 'num_leaves': 147, 'min_data_in_leaf': 37, 'feature_fraction': 0.7901298314000827, 'bagging_fraction': 0.7929535397024011, 'bagging_freq': 9, 'lambda_l1': 0.054350200032301725, 'lambda_l2': 1.0737385303977861e-06}. Best is trial 25 with value: 0.9566473988439307.\n",
            "[I 2024-11-03 17:51:08,340] Trial 27 finished with value: 0.9595375722543352 and parameters: {'learning_rate': 0.24256927068265077, 'num_leaves': 121, 'min_data_in_leaf': 29, 'feature_fraction': 0.8737858000706946, 'bagging_fraction': 0.8148216076793402, 'bagging_freq': 8, 'lambda_l1': 0.09256114066134195, 'lambda_l2': 5.4845501897640934e-05}. Best is trial 27 with value: 0.9595375722543352.\n",
            "[I 2024-11-03 17:51:09,157] Trial 28 finished with value: 0.6791907514450867 and parameters: {'learning_rate': 0.027764969589893922, 'num_leaves': 121, 'min_data_in_leaf': 50, 'feature_fraction': 0.8835238904566428, 'bagging_fraction': 0.8229906300204739, 'bagging_freq': 9, 'lambda_l1': 0.05720904740166281, 'lambda_l2': 7.28448493755551e-06}. Best is trial 27 with value: 0.9595375722543352.\n",
            "[I 2024-11-03 17:51:10,235] Trial 29 finished with value: 0.7947976878612717 and parameters: {'learning_rate': 0.058184169471078614, 'num_leaves': 104, 'min_data_in_leaf': 28, 'feature_fraction': 0.890658157379851, 'bagging_fraction': 0.8152116436680987, 'bagging_freq': 8, 'lambda_l1': 0.0006057746510504272, 'lambda_l2': 3.469209565146632e-07}. Best is trial 27 with value: 0.9595375722543352.\n",
            "[I 2024-11-03 17:51:10,830] Trial 30 finished with value: 0.9017341040462428 and parameters: {'learning_rate': 0.10259317532041877, 'num_leaves': 90, 'min_data_in_leaf': 50, 'feature_fraction': 0.8969894247703118, 'bagging_fraction': 0.8468598193693327, 'bagging_freq': 9, 'lambda_l1': 0.06952530512890313, 'lambda_l2': 4.748878777933584e-05}. Best is trial 27 with value: 0.9595375722543352.\n",
            "[I 2024-11-03 17:51:11,016] Trial 31 finished with value: 0.9364161849710982 and parameters: {'learning_rate': 0.24330052447435274, 'num_leaves': 141, 'min_data_in_leaf': 30, 'feature_fraction': 0.8662423274711596, 'bagging_fraction': 0.7531425988407914, 'bagging_freq': 8, 'lambda_l1': 0.7075051916536794, 'lambda_l2': 9.628220846276543e-05}. Best is trial 27 with value: 0.9595375722543352.\n",
            "[I 2024-11-03 17:51:11,719] Trial 32 finished with value: 0.9566473988439307 and parameters: {'learning_rate': 0.2486763548313734, 'num_leaves': 126, 'min_data_in_leaf': 39, 'feature_fraction': 0.8501608222131165, 'bagging_fraction': 0.7926166837978583, 'bagging_freq': 7, 'lambda_l1': 0.0029853550317149743, 'lambda_l2': 0.00098526713377244}. Best is trial 27 with value: 0.9595375722543352.\n",
            "[I 2024-11-03 17:51:13,447] Trial 33 finished with value: 0.9450867052023122 and parameters: {'learning_rate': 0.1505185818658696, 'num_leaves': 124, 'min_data_in_leaf': 39, 'feature_fraction': 0.7932336882309605, 'bagging_fraction': 0.7904787528494828, 'bagging_freq': 8, 'lambda_l1': 0.0034021019893155035, 'lambda_l2': 0.0009402902522949297}. Best is trial 27 with value: 0.9595375722543352.\n",
            "[I 2024-11-03 17:51:14,944] Trial 34 finished with value: 0.930635838150289 and parameters: {'learning_rate': 0.17149097742375238, 'num_leaves': 108, 'min_data_in_leaf': 26, 'feature_fraction': 0.7482396711348707, 'bagging_fraction': 0.7013069229269439, 'bagging_freq': 10, 'lambda_l1': 0.001873000580179, 'lambda_l2': 0.024746514085258225}. Best is trial 27 with value: 0.9595375722543352.\n",
            "[I 2024-11-03 17:51:16,639] Trial 35 finished with value: 0.9653179190751445 and parameters: {'learning_rate': 0.23861757581124893, 'num_leaves': 130, 'min_data_in_leaf': 40, 'feature_fraction': 0.8429152423175656, 'bagging_fraction': 0.8602970851238789, 'bagging_freq': 9, 'lambda_l1': 0.02201798771456896, 'lambda_l2': 9.48991637462234e-06}. Best is trial 35 with value: 0.9653179190751445.\n",
            "[I 2024-11-03 17:51:17,161] Trial 36 finished with value: 0.9479768786127167 and parameters: {'learning_rate': 0.16858777405702088, 'num_leaves': 128, 'min_data_in_leaf': 41, 'feature_fraction': 0.7598098847916142, 'bagging_fraction': 0.862911030999898, 'bagging_freq': 9, 'lambda_l1': 0.018934590026699713, 'lambda_l2': 9.338023686414581e-06}. Best is trial 35 with value: 0.9653179190751445.\n",
            "[I 2024-11-03 17:51:17,466] Trial 37 finished with value: 0.9219653179190751 and parameters: {'learning_rate': 0.12272113345364372, 'num_leaves': 97, 'min_data_in_leaf': 45, 'feature_fraction': 0.8739513709654089, 'bagging_fraction': 0.8745506495950147, 'bagging_freq': 10, 'lambda_l1': 0.017711603528486265, 'lambda_l2': 2.3732476480867654e-06}. Best is trial 35 with value: 0.9653179190751445.\n",
            "[I 2024-11-03 17:51:18,032] Trial 38 finished with value: 0.6791907514450867 and parameters: {'learning_rate': 0.02331019533286209, 'num_leaves': 119, 'min_data_in_leaf': 49, 'feature_fraction': 0.7895210792228942, 'bagging_fraction': 0.8036629959401069, 'bagging_freq': 9, 'lambda_l1': 0.0017201679178904452, 'lambda_l2': 1.2644067872245563e-05}. Best is trial 35 with value: 0.9653179190751445.\n",
            "[I 2024-11-03 17:51:18,158] Trial 39 finished with value: 0.9421965317919075 and parameters: {'learning_rate': 0.22149294973129408, 'num_leaves': 110, 'min_data_in_leaf': 55, 'feature_fraction': 0.6586828645657137, 'bagging_fraction': 0.8413782411587495, 'bagging_freq': 5, 'lambda_l1': 0.021653244547775428, 'lambda_l2': 0.0011382709857492746}. Best is trial 35 with value: 0.9653179190751445.\n",
            "[I 2024-11-03 17:51:18,244] Trial 40 finished with value: 0.9566473988439307 and parameters: {'learning_rate': 0.296079828227519, 'num_leaves': 78, 'min_data_in_leaf': 41, 'feature_fraction': 0.8075464300823759, 'bagging_fraction': 0.8360712969600331, 'bagging_freq': 10, 'lambda_l1': 0.08229590647183511, 'lambda_l2': 3.6297689214878614e-07}. Best is trial 35 with value: 0.9653179190751445.\n",
            "[I 2024-11-03 17:51:18,339] Trial 41 finished with value: 0.9566473988439307 and parameters: {'learning_rate': 0.29261869443668026, 'num_leaves': 78, 'min_data_in_leaf': 38, 'feature_fraction': 0.8346520563721622, 'bagging_fraction': 0.8378285545435192, 'bagging_freq': 10, 'lambda_l1': 0.1274708025126536, 'lambda_l2': 2.6050313837821947e-07}. Best is trial 35 with value: 0.9653179190751445.\n",
            "[I 2024-11-03 17:51:18,426] Trial 42 finished with value: 0.9624277456647399 and parameters: {'learning_rate': 0.24518318875696765, 'num_leaves': 71, 'min_data_in_leaf': 44, 'feature_fraction': 0.8780079864620898, 'bagging_fraction': 0.8684750536381337, 'bagging_freq': 10, 'lambda_l1': 0.00021251181502447385, 'lambda_l2': 3.869428460520469e-08}. Best is trial 35 with value: 0.9653179190751445.\n",
            "[I 2024-11-03 17:51:18,513] Trial 43 finished with value: 0.9624277456647399 and parameters: {'learning_rate': 0.24138326435460963, 'num_leaves': 68, 'min_data_in_leaf': 45, 'feature_fraction': 0.8771163804270494, 'bagging_fraction': 0.8773408014296411, 'bagging_freq': 9, 'lambda_l1': 0.00022980105286204177, 'lambda_l2': 2.3694073017376183e-05}. Best is trial 35 with value: 0.9653179190751445.\n",
            "[I 2024-11-03 17:51:18,600] Trial 44 finished with value: 0.930635838150289 and parameters: {'learning_rate': 0.15640569508526056, 'num_leaves': 46, 'min_data_in_leaf': 46, 'feature_fraction': 0.8761825677812122, 'bagging_fraction': 0.8791578923019094, 'bagging_freq': 10, 'lambda_l1': 8.155859256299725e-05, 'lambda_l2': 2.826799239067641e-08}. Best is trial 35 with value: 0.9653179190751445.\n",
            "[I 2024-11-03 17:51:18,691] Trial 45 finished with value: 0.9508670520231214 and parameters: {'learning_rate': 0.1883745545496112, 'num_leaves': 64, 'min_data_in_leaf': 33, 'feature_fraction': 0.8826493652800523, 'bagging_fraction': 0.8811709422029267, 'bagging_freq': 9, 'lambda_l1': 0.0003759481027875484, 'lambda_l2': 3.870747626711009e-06}. Best is trial 35 with value: 0.9653179190751445.\n",
            "[I 2024-11-03 17:51:18,782] Trial 46 finished with value: 0.7572254335260116 and parameters: {'learning_rate': 0.12434799787803845, 'num_leaves': 71, 'min_data_in_leaf': 53, 'feature_fraction': 0.5277806758222132, 'bagging_fraction': 0.8586071614986671, 'bagging_freq': 10, 'lambda_l1': 8.473569514387221e-07, 'lambda_l2': 2.3656885777514916e-05}. Best is trial 35 with value: 0.9653179190751445.\n",
            "[I 2024-11-03 17:51:18,878] Trial 47 finished with value: 0.9479768786127167 and parameters: {'learning_rate': 0.23982093600693377, 'num_leaves': 68, 'min_data_in_leaf': 43, 'feature_fraction': 0.8989511895409781, 'bagging_fraction': 0.8966427280762927, 'bagging_freq': 3, 'lambda_l1': 0.0001358540625546123, 'lambda_l2': 1.0227715712337486e-06}. Best is trial 35 with value: 0.9653179190751445.\n",
            "[I 2024-11-03 17:51:18,966] Trial 48 finished with value: 0.9335260115606936 and parameters: {'learning_rate': 0.14702649856119682, 'num_leaves': 86, 'min_data_in_leaf': 35, 'feature_fraction': 0.8682107632786379, 'bagging_fraction': 0.817068065142337, 'bagging_freq': 9, 'lambda_l1': 3.519246207876558e-05, 'lambda_l2': 0.00034969028401731097}. Best is trial 35 with value: 0.9653179190751445.\n",
            "[I 2024-11-03 17:51:19,049] Trial 49 finished with value: 0.6791907514450867 and parameters: {'learning_rate': 0.03237299744844877, 'num_leaves': 38, 'min_data_in_leaf': 98, 'feature_fraction': 0.8277162810807402, 'bagging_fraction': 0.8675774057640196, 'bagging_freq': 10, 'lambda_l1': 2.837446326232137e-08, 'lambda_l2': 9.474132055966987e-08}. Best is trial 35 with value: 0.9653179190751445.\n",
            "[I 2024-11-03 17:51:19,175] Trial 50 finished with value: 0.6791907514450867 and parameters: {'learning_rate': 0.01177332768915584, 'num_leaves': 61, 'min_data_in_leaf': 62, 'feature_fraction': 0.771233261585551, 'bagging_fraction': 0.776009414509333, 'bagging_freq': 9, 'lambda_l1': 1.4969830704889364e-05, 'lambda_l2': 4.640073846164942e-05}. Best is trial 35 with value: 0.9653179190751445.\n",
            "[I 2024-11-03 17:51:19,273] Trial 51 finished with value: 0.9624277456647399 and parameters: {'learning_rate': 0.2529452932716388, 'num_leaves': 136, 'min_data_in_leaf': 29, 'feature_fraction': 0.8510115924177657, 'bagging_fraction': 0.8024152806903505, 'bagging_freq': 7, 'lambda_l1': 0.0009927019219778122, 'lambda_l2': 0.00016928781063326414}. Best is trial 35 with value: 0.9653179190751445.\n",
            "[I 2024-11-03 17:51:19,360] Trial 52 finished with value: 0.9566473988439307 and parameters: {'learning_rate': 0.21601022474981524, 'num_leaves': 137, 'min_data_in_leaf': 30, 'feature_fraction': 0.8626544787715291, 'bagging_fraction': 0.80786189125502, 'bagging_freq': 8, 'lambda_l1': 0.0002339283358271436, 'lambda_l2': 0.00010425207721475278}. Best is trial 35 with value: 0.9653179190751445.\n",
            "[I 2024-11-03 17:51:19,450] Trial 53 finished with value: 0.953757225433526 and parameters: {'learning_rate': 0.17822005295283724, 'num_leaves': 141, 'min_data_in_leaf': 26, 'feature_fraction': 0.8348971448259909, 'bagging_fraction': 0.8320959510068935, 'bagging_freq': 6, 'lambda_l1': 0.0010245571419022284, 'lambda_l2': 2.1419518977799293e-05}. Best is trial 35 with value: 0.9653179190751445.\n",
            "[I 2024-11-03 17:51:19,535] Trial 54 finished with value: 0.9450867052023122 and parameters: {'learning_rate': 0.26160319573769303, 'num_leaves': 74, 'min_data_in_leaf': 36, 'feature_fraction': 0.8091261523809251, 'bagging_fraction': 0.8538192765550796, 'bagging_freq': 8, 'lambda_l1': 0.010631528048842553, 'lambda_l2': 3.4864414103803913e-06}. Best is trial 35 with value: 0.9653179190751445.\n",
            "[I 2024-11-03 17:51:19,623] Trial 55 finished with value: 0.9479768786127167 and parameters: {'learning_rate': 0.1971899811857432, 'num_leaves': 132, 'min_data_in_leaf': 42, 'feature_fraction': 0.8816242559820395, 'bagging_fraction': 0.890113872490143, 'bagging_freq': 9, 'lambda_l1': 0.0007538763929085625, 'lambda_l2': 0.0002380583371307273}. Best is trial 35 with value: 0.9653179190751445.\n",
            "[I 2024-11-03 17:51:19,717] Trial 56 finished with value: 0.953757225433526 and parameters: {'learning_rate': 0.22230371480774874, 'num_leaves': 144, 'min_data_in_leaf': 30, 'feature_fraction': 0.842228879543072, 'bagging_fraction': 0.7709693909781872, 'bagging_freq': 7, 'lambda_l1': 0.00012593796669453498, 'lambda_l2': 1.596470635457568e-05}. Best is trial 35 with value: 0.9653179190751445.\n",
            "[I 2024-11-03 17:51:19,806] Trial 57 finished with value: 0.9710982658959537 and parameters: {'learning_rate': 0.2635947262724385, 'num_leaves': 51, 'min_data_in_leaf': 24, 'feature_fraction': 0.8517863680782299, 'bagging_fraction': 0.8260250005245207, 'bagging_freq': 8, 'lambda_l1': 0.03332036095030896, 'lambda_l2': 4.941265260401087e-05}. Best is trial 57 with value: 0.9710982658959537.\n",
            "[I 2024-11-03 17:51:19,902] Trial 58 finished with value: 0.9566473988439307 and parameters: {'learning_rate': 0.1875145923808293, 'num_leaves': 48, 'min_data_in_leaf': 24, 'feature_fraction': 0.8215149353214711, 'bagging_fraction': 0.8293511162838708, 'bagging_freq': 8, 'lambda_l1': 0.00678483157414482, 'lambda_l2': 6.221762888291104e-05}. Best is trial 57 with value: 0.9710982658959537.\n",
            "[I 2024-11-03 17:51:19,997] Trial 59 finished with value: 0.9682080924855492 and parameters: {'learning_rate': 0.2702176464561104, 'num_leaves': 21, 'min_data_in_leaf': 25, 'feature_fraction': 0.8505889732158595, 'bagging_fraction': 0.8535144293088625, 'bagging_freq': 7, 'lambda_l1': 7.021794889015386e-06, 'lambda_l2': 0.001908959993322768}. Best is trial 57 with value: 0.9710982658959537.\n",
            "[I 2024-11-03 17:51:20,087] Trial 60 finished with value: 0.9682080924855492 and parameters: {'learning_rate': 0.2782735344455434, 'num_leaves': 25, 'min_data_in_leaf': 25, 'feature_fraction': 0.7994836906210065, 'bagging_fraction': 0.8799509328823923, 'bagging_freq': 6, 'lambda_l1': 2.0402585623757613e-07, 'lambda_l2': 0.02883051471304605}. Best is trial 57 with value: 0.9710982658959537.\n",
            "[I 2024-11-03 17:51:20,218] Trial 61 finished with value: 0.9710982658959537 and parameters: {'learning_rate': 0.2999622015418768, 'num_leaves': 21, 'min_data_in_leaf': 24, 'feature_fraction': 0.852480285455302, 'bagging_fraction': 0.8998775608980212, 'bagging_freq': 6, 'lambda_l1': 1.6460385253517098e-07, 'lambda_l2': 0.0729158315504686}. Best is trial 57 with value: 0.9710982658959537.\n",
            "[I 2024-11-03 17:51:20,309] Trial 62 finished with value: 0.9653179190751445 and parameters: {'learning_rate': 0.29534091318427486, 'num_leaves': 23, 'min_data_in_leaf': 24, 'feature_fraction': 0.8081611963041256, 'bagging_fraction': 0.8853150832960579, 'bagging_freq': 6, 'lambda_l1': 1.6008554470501849e-07, 'lambda_l2': 0.13869893599745692}. Best is trial 57 with value: 0.9710982658959537.\n",
            "[I 2024-11-03 17:51:20,404] Trial 63 finished with value: 0.9624277456647399 and parameters: {'learning_rate': 0.29860579409400106, 'num_leaves': 20, 'min_data_in_leaf': 23, 'feature_fraction': 0.8070928365486044, 'bagging_fraction': 0.8994113822909061, 'bagging_freq': 6, 'lambda_l1': 1.575477208654412e-07, 'lambda_l2': 0.07805478387260831}. Best is trial 57 with value: 0.9710982658959537.\n",
            "[I 2024-11-03 17:51:20,490] Trial 64 finished with value: 0.9335260115606936 and parameters: {'learning_rate': 0.28003888035958463, 'num_leaves': 30, 'min_data_in_leaf': 26, 'feature_fraction': 0.7214678749325671, 'bagging_fraction': 0.8580607385471672, 'bagging_freq': 4, 'lambda_l1': 1.4275378945435216e-07, 'lambda_l2': 1.3182707106912697}. Best is trial 57 with value: 0.9710982658959537.\n",
            "[I 2024-11-03 17:51:20,584] Trial 65 finished with value: 0.9653179190751445 and parameters: {'learning_rate': 0.2116818737910433, 'num_leaves': 20, 'min_data_in_leaf': 23, 'feature_fraction': 0.8000599788597257, 'bagging_fraction': 0.8870720795521626, 'bagging_freq': 6, 'lambda_l1': 7.972872733398513e-07, 'lambda_l2': 0.1265024610514558}. Best is trial 57 with value: 0.9710982658959537.\n",
            "[I 2024-11-03 17:51:20,671] Trial 66 finished with value: 0.9595375722543352 and parameters: {'learning_rate': 0.2087411707938563, 'num_leaves': 20, 'min_data_in_leaf': 20, 'feature_fraction': 0.7993036116983726, 'bagging_fraction': 0.8878687926219779, 'bagging_freq': 6, 'lambda_l1': 1.1752988344509343e-06, 'lambda_l2': 0.16210076952727404}. Best is trial 57 with value: 0.9710982658959537.\n",
            "[I 2024-11-03 17:51:20,761] Trial 67 finished with value: 0.9682080924855492 and parameters: {'learning_rate': 0.2730912949800874, 'num_leaves': 25, 'min_data_in_leaf': 24, 'feature_fraction': 0.7733960438487688, 'bagging_fraction': 0.851398542970698, 'bagging_freq': 5, 'lambda_l1': 2.842859215153857e-07, 'lambda_l2': 0.0150510967422472}. Best is trial 57 with value: 0.9710982658959537.\n",
            "[I 2024-11-03 17:51:20,853] Trial 68 finished with value: 0.9682080924855492 and parameters: {'learning_rate': 0.2716995680656843, 'num_leaves': 36, 'min_data_in_leaf': 26, 'feature_fraction': 0.7769037234105217, 'bagging_fraction': 0.8495880453087469, 'bagging_freq': 5, 'lambda_l1': 2.7692202722344715e-07, 'lambda_l2': 0.013440106525918174}. Best is trial 57 with value: 0.9710982658959537.\n",
            "[I 2024-11-03 17:51:20,955] Trial 69 finished with value: 0.9710982658959537 and parameters: {'learning_rate': 0.2730966401575284, 'num_leaves': 36, 'min_data_in_leaf': 27, 'feature_fraction': 0.7766931740232913, 'bagging_fraction': 0.851657260654961, 'bagging_freq': 5, 'lambda_l1': 1.0160490173954141e-08, 'lambda_l2': 0.014170888135098904}. Best is trial 57 with value: 0.9710982658959537.\n",
            "[I 2024-11-03 17:51:21,045] Trial 70 finished with value: 0.9479768786127167 and parameters: {'learning_rate': 0.272172275521329, 'num_leaves': 36, 'min_data_in_leaf': 27, 'feature_fraction': 0.7481507698327362, 'bagging_fraction': 0.8479999114102815, 'bagging_freq': 5, 'lambda_l1': 1.1833686929236824e-08, 'lambda_l2': 0.013165374953779648}. Best is trial 57 with value: 0.9710982658959537.\n",
            "[I 2024-11-03 17:51:21,157] Trial 71 finished with value: 0.9710982658959537 and parameters: {'learning_rate': 0.26803282328730427, 'num_leaves': 27, 'min_data_in_leaf': 22, 'feature_fraction': 0.7774660191833631, 'bagging_fraction': 0.8533887020133137, 'bagging_freq': 5, 'lambda_l1': 5.568379493466977e-08, 'lambda_l2': 0.015584168103957087}. Best is trial 57 with value: 0.9710982658959537.\n",
            "[I 2024-11-03 17:51:21,265] Trial 72 finished with value: 0.9739884393063584 and parameters: {'learning_rate': 0.2673818143932359, 'num_leaves': 27, 'min_data_in_leaf': 21, 'feature_fraction': 0.7789883754941003, 'bagging_fraction': 0.8458121682997686, 'bagging_freq': 5, 'lambda_l1': 5.026214901404608e-08, 'lambda_l2': 0.013026744088430077}. Best is trial 72 with value: 0.9739884393063584.\n",
            "[I 2024-11-03 17:51:21,364] Trial 73 finished with value: 0.6907514450867052 and parameters: {'learning_rate': 0.05614630875239259, 'num_leaves': 27, 'min_data_in_leaf': 22, 'feature_fraction': 0.733867903281904, 'bagging_fraction': 0.8698543512345085, 'bagging_freq': 4, 'lambda_l1': 2.289770851111895e-08, 'lambda_l2': 0.0018737795318082293}. Best is trial 72 with value: 0.9739884393063584.\n",
            "[I 2024-11-03 17:51:21,455] Trial 74 finished with value: 0.9739884393063584 and parameters: {'learning_rate': 0.26583505482019626, 'num_leaves': 32, 'min_data_in_leaf': 20, 'feature_fraction': 0.7556305490613003, 'bagging_fraction': 0.8302437806733718, 'bagging_freq': 4, 'lambda_l1': 5.852602157649326e-08, 'lambda_l2': 0.04216691887905355}. Best is trial 72 with value: 0.9739884393063584.\n",
            "[I 2024-11-03 17:51:21,550] Trial 75 finished with value: 0.9653179190751445 and parameters: {'learning_rate': 0.22451221137826038, 'num_leaves': 43, 'min_data_in_leaf': 20, 'feature_fraction': 0.7587391584486507, 'bagging_fraction': 0.8286372470565682, 'bagging_freq': 4, 'lambda_l1': 5.1131623069918255e-08, 'lambda_l2': 0.05451433308342286}. Best is trial 72 with value: 0.9739884393063584.\n",
            "[I 2024-11-03 17:51:21,641] Trial 76 finished with value: 0.9393063583815029 and parameters: {'learning_rate': 0.19733738146481689, 'num_leaves': 33, 'min_data_in_leaf': 32, 'feature_fraction': 0.6996651500319042, 'bagging_fraction': 0.8213675308970827, 'bagging_freq': 3, 'lambda_l1': 6.133019352188905e-08, 'lambda_l2': 0.02730123923033899}. Best is trial 72 with value: 0.9739884393063584.\n",
            "[I 2024-11-03 17:51:21,726] Trial 77 finished with value: 0.8988439306358381 and parameters: {'learning_rate': 0.16150635796373392, 'num_leaves': 31, 'min_data_in_leaf': 94, 'feature_fraction': 0.7855671229423943, 'bagging_fraction': 0.6309340438193586, 'bagging_freq': 4, 'lambda_l1': 5.768651956308534e-08, 'lambda_l2': 0.007914934199258181}. Best is trial 72 with value: 0.9739884393063584.\n",
            "[I 2024-11-03 17:51:21,822] Trial 78 finished with value: 0.6791907514450867 and parameters: {'learning_rate': 0.04655184127961431, 'num_leaves': 41, 'min_data_in_leaf': 21, 'feature_fraction': 0.737208648491259, 'bagging_fraction': 0.8401472538598319, 'bagging_freq': 5, 'lambda_l1': 2.712200762029577e-06, 'lambda_l2': 0.46652390978735314}. Best is trial 72 with value: 0.9739884393063584.\n",
            "[I 2024-11-03 17:51:21,914] Trial 79 finished with value: 0.9219653179190751 and parameters: {'learning_rate': 0.26165759670770516, 'num_leaves': 28, 'min_data_in_leaf': 85, 'feature_fraction': 0.6782992979051765, 'bagging_fraction': 0.8715310050550797, 'bagging_freq': 5, 'lambda_l1': 2.912711879577248e-08, 'lambda_l2': 0.002301555722125418}. Best is trial 72 with value: 0.9739884393063584.\n",
            "[I 2024-11-03 17:51:22,012] Trial 80 finished with value: 0.9393063583815029 and parameters: {'learning_rate': 0.1374139019515326, 'num_leaves': 24, 'min_data_in_leaf': 28, 'feature_fraction': 0.7636547269615258, 'bagging_fraction': 0.7850950548529937, 'bagging_freq': 3, 'lambda_l1': 3.5302228152718455e-07, 'lambda_l2': 1.2464198865842135}. Best is trial 72 with value: 0.9739884393063584.\n",
            "[I 2024-11-03 17:51:22,114] Trial 81 finished with value: 0.9710982658959537 and parameters: {'learning_rate': 0.2760675145992039, 'num_leaves': 34, 'min_data_in_leaf': 24, 'feature_fraction': 0.7777630832991705, 'bagging_fraction': 0.8476776402450688, 'bagging_freq': 5, 'lambda_l1': 7.878158955456871e-08, 'lambda_l2': 0.014256752614135055}. Best is trial 72 with value: 0.9739884393063584.\n",
            "[I 2024-11-03 17:51:22,230] Trial 82 finished with value: 0.9653179190751445 and parameters: {'learning_rate': 0.23334321609307454, 'num_leaves': 35, 'min_data_in_leaf': 25, 'feature_fraction': 0.7550260595445617, 'bagging_fraction': 0.8437699512896744, 'bagging_freq': 5, 'lambda_l1': 1.0004577402977782e-07, 'lambda_l2': 0.03578019987283792}. Best is trial 72 with value: 0.9739884393063584.\n",
            "[I 2024-11-03 17:51:22,333] Trial 83 finished with value: 0.9710982658959537 and parameters: {'learning_rate': 0.27356025748758617, 'num_leaves': 50, 'min_data_in_leaf': 22, 'feature_fraction': 0.8236008617559811, 'bagging_fraction': 0.8602429588073846, 'bagging_freq': 4, 'lambda_l1': 1.560002446927551e-08, 'lambda_l2': 0.009468466205952512}. Best is trial 72 with value: 0.9739884393063584.\n",
            "[I 2024-11-03 17:51:22,431] Trial 84 finished with value: 0.9710982658959537 and parameters: {'learning_rate': 0.26105759204895473, 'num_leaves': 43, 'min_data_in_leaf': 22, 'feature_fraction': 0.7803326070903608, 'bagging_fraction': 0.860787861823245, 'bagging_freq': 4, 'lambda_l1': 1.9464319788888937e-08, 'lambda_l2': 0.009468130912069127}. Best is trial 72 with value: 0.9739884393063584.\n",
            "[I 2024-11-03 17:51:22,525] Trial 85 finished with value: 0.9595375722543352 and parameters: {'learning_rate': 0.29967750072962696, 'num_leaves': 53, 'min_data_in_leaf': 22, 'feature_fraction': 0.7233016117774904, 'bagging_fraction': 0.8100554277787887, 'bagging_freq': 4, 'lambda_l1': 1.6404999713788917e-08, 'lambda_l2': 0.008361058495853672}. Best is trial 72 with value: 0.9739884393063584.\n",
            "[I 2024-11-03 17:51:22,615] Trial 86 finished with value: 0.8670520231213873 and parameters: {'learning_rate': 0.06792739957939103, 'num_leaves': 47, 'min_data_in_leaf': 20, 'feature_fraction': 0.8228529777254979, 'bagging_fraction': 0.8609732455588839, 'bagging_freq': 4, 'lambda_l1': 4.1440452001372515e-08, 'lambda_l2': 0.07146868531994786}. Best is trial 72 with value: 0.9739884393063584.\n",
            "[I 2024-11-03 17:51:22,710] Trial 87 finished with value: 0.953757225433526 and parameters: {'learning_rate': 0.23085640177708375, 'num_leaves': 40, 'min_data_in_leaf': 31, 'feature_fraction': 0.7830906696215415, 'bagging_fraction': 0.8231832346688294, 'bagging_freq': 2, 'lambda_l1': 8.302746903666917e-08, 'lambda_l2': 0.01816065687002791}. Best is trial 72 with value: 0.9739884393063584.\n",
            "[I 2024-11-03 17:51:22,802] Trial 88 finished with value: 0.953757225433526 and parameters: {'learning_rate': 0.17988596836660245, 'num_leaves': 44, 'min_data_in_leaf': 28, 'feature_fraction': 0.7698917455538699, 'bagging_fraction': 0.8336815453148445, 'bagging_freq': 3, 'lambda_l1': 1.2809717764411202e-08, 'lambda_l2': 0.26714130664069785}. Best is trial 72 with value: 0.9739884393063584.\n",
            "[I 2024-11-03 17:51:22,894] Trial 89 finished with value: 0.9624277456647399 and parameters: {'learning_rate': 0.2126532822583632, 'num_leaves': 52, 'min_data_in_leaf': 22, 'feature_fraction': 0.7814942776153757, 'bagging_fraction': 0.867074938820306, 'bagging_freq': 4, 'lambda_l1': 1.9761000529513873e-08, 'lambda_l2': 0.006861372613089402}. Best is trial 72 with value: 0.9739884393063584.\n",
            "[I 2024-11-03 17:51:22,997] Trial 90 finished with value: 0.953757225433526 and parameters: {'learning_rate': 0.26139718676783796, 'num_leaves': 33, 'min_data_in_leaf': 22, 'feature_fraction': 0.7394671361716354, 'bagging_fraction': 0.8014704794768442, 'bagging_freq': 5, 'lambda_l1': 3.405356565095755e-08, 'lambda_l2': 0.0038730380835627952}. Best is trial 72 with value: 0.9739884393063584.\n",
            "[I 2024-11-03 17:51:23,094] Trial 91 finished with value: 0.9595375722543352 and parameters: {'learning_rate': 0.2551508103010913, 'num_leaves': 30, 'min_data_in_leaf': 27, 'feature_fraction': 0.813721915063673, 'bagging_fraction': 0.8539052179696596, 'bagging_freq': 4, 'lambda_l1': 4.759003625195207e-07, 'lambda_l2': 0.0027974021223443175}. Best is trial 72 with value: 0.9739884393063584.\n",
            "[I 2024-11-03 17:51:23,204] Trial 92 finished with value: 0.9595375722543352 and parameters: {'learning_rate': 0.2321075067974308, 'num_leaves': 39, 'min_data_in_leaf': 34, 'feature_fraction': 0.853642879001722, 'bagging_fraction': 0.8438348118313916, 'bagging_freq': 5, 'lambda_l1': 8.903896750896673e-08, 'lambda_l2': 0.0015628129274395549}. Best is trial 72 with value: 0.9739884393063584.\n",
            "[I 2024-11-03 17:51:23,312] Trial 93 finished with value: 0.9248554913294798 and parameters: {'learning_rate': 0.2727224568836731, 'num_leaves': 56, 'min_data_in_leaf': 73, 'feature_fraction': 0.7929680793235394, 'bagging_fraction': 0.8730670459275187, 'bagging_freq': 5, 'lambda_l1': 1.086440239776755e-08, 'lambda_l2': 0.0004906781957237297}. Best is trial 72 with value: 0.9739884393063584.\n",
            "[I 2024-11-03 17:51:23,409] Trial 94 finished with value: 0.953757225433526 and parameters: {'learning_rate': 0.19947545041885717, 'num_leaves': 50, 'min_data_in_leaf': 24, 'feature_fraction': 0.828696374687517, 'bagging_fraction': 0.8281639863631822, 'bagging_freq': 4, 'lambda_l1': 2.1003223187937524e-08, 'lambda_l2': 0.010291271106680776}. Best is trial 72 with value: 0.9739884393063584.\n",
            "[I 2024-11-03 17:51:23,501] Trial 95 finished with value: 0.6791907514450867 and parameters: {'learning_rate': 0.018244690311231083, 'num_leaves': 28, 'min_data_in_leaf': 20, 'feature_fraction': 0.7572253287848392, 'bagging_fraction': 0.7179675714253956, 'bagging_freq': 7, 'lambda_l1': 3.3539646461274343e-06, 'lambda_l2': 0.05048561195469916}. Best is trial 72 with value: 0.9739884393063584.\n",
            "[I 2024-11-03 17:51:23,593] Trial 96 finished with value: 0.9450867052023122 and parameters: {'learning_rate': 0.24909347100383034, 'num_leaves': 33, 'min_data_in_leaf': 29, 'feature_fraction': 0.7496741607706779, 'bagging_fraction': 0.7610793128908833, 'bagging_freq': 5, 'lambda_l1': 4.3527407997874504e-08, 'lambda_l2': 0.0046789575834709956}. Best is trial 72 with value: 0.9739884393063584.\n",
            "[I 2024-11-03 17:51:23,690] Trial 97 finished with value: 0.9710982658959537 and parameters: {'learning_rate': 0.28103150743694755, 'num_leaves': 60, 'min_data_in_leaf': 25, 'feature_fraction': 0.8391232269399796, 'bagging_fraction': 0.8625591156699103, 'bagging_freq': 3, 'lambda_l1': 1.0345800291420126e-07, 'lambda_l2': 0.027073166851506483}. Best is trial 72 with value: 0.9739884393063584.\n",
            "[I 2024-11-03 17:51:23,785] Trial 98 finished with value: 0.9624277456647399 and parameters: {'learning_rate': 0.22367800370427174, 'num_leaves': 58, 'min_data_in_leaf': 22, 'feature_fraction': 0.7670464499878239, 'bagging_fraction': 0.8949740235426603, 'bagging_freq': 2, 'lambda_l1': 9.332844805288611e-08, 'lambda_l2': 0.10352193054448525}. Best is trial 72 with value: 0.9739884393063584.\n",
            "[I 2024-11-03 17:51:23,874] Trial 99 finished with value: 0.953757225433526 and parameters: {'learning_rate': 0.2996459497523668, 'num_leaves': 41, 'min_data_in_leaf': 27, 'feature_fraction': 0.8391647989465815, 'bagging_fraction': 0.5630729804955629, 'bagging_freq': 2, 'lambda_l1': 1.599073638019187e-08, 'lambda_l2': 0.019513955166561774}. Best is trial 72 with value: 0.9739884393063584.\n"
          ]
        },
        {
          "output_type": "stream",
          "name": "stdout",
          "text": [
            "Accuracy: 0.9739884393063584\n",
            "Best hyperparameters: {'learning_rate': 0.2673818143932359, 'num_leaves': 27, 'min_data_in_leaf': 21, 'feature_fraction': 0.7789883754941003, 'bagging_fraction': 0.8458121682997686, 'bagging_freq': 5, 'lambda_l1': 5.026214901404608e-08, 'lambda_l2': 0.013026744088430077}\n"
          ]
        }
      ]
    },
    {
      "cell_type": "code",
      "source": [
        "optuna.visualization.plot_optimization_history(study)\n",
        "optuna.visualization.plot_param_importances(study)"
      ],
      "metadata": {
        "colab": {
          "base_uri": "https://localhost:8080/",
          "height": 542
        },
        "id": "2eU15qnyOXEU",
        "outputId": "189b5036-f158-4319-b42d-54c8029000b5"
      },
      "execution_count": 30,
      "outputs": [
        {
          "output_type": "display_data",
          "data": {
            "text/html": [
              "<html>\n",
              "<head><meta charset=\"utf-8\" /></head>\n",
              "<body>\n",
              "    <div>            <script src=\"https://cdnjs.cloudflare.com/ajax/libs/mathjax/2.7.5/MathJax.js?config=TeX-AMS-MML_SVG\"></script><script type=\"text/javascript\">if (window.MathJax && window.MathJax.Hub && window.MathJax.Hub.Config) {window.MathJax.Hub.Config({SVG: {font: \"STIX-Web\"}});}</script>                <script type=\"text/javascript\">window.PlotlyConfig = {MathJaxConfig: 'local'};</script>\n",
              "        <script charset=\"utf-8\" src=\"https://cdn.plot.ly/plotly-2.35.2.min.js\"></script>                <div id=\"d0aee0a0-6520-46e4-a57f-746502548d7c\" class=\"plotly-graph-div\" style=\"height:525px; width:100%;\"></div>            <script type=\"text/javascript\">                                    window.PLOTLYENV=window.PLOTLYENV || {};                                    if (document.getElementById(\"d0aee0a0-6520-46e4-a57f-746502548d7c\")) {                    Plotly.newPlot(                        \"d0aee0a0-6520-46e4-a57f-746502548d7c\",                        [{\"cliponaxis\":false,\"hovertemplate\":[\"lambda_l1 (FloatDistribution): 0.0005794270225780751\\u003cextra\\u003e\\u003c\\u002fextra\\u003e\",\"num_leaves (IntDistribution): 0.0008172226047838298\\u003cextra\\u003e\\u003c\\u002fextra\\u003e\",\"lambda_l2 (FloatDistribution): 0.0011185662089439597\\u003cextra\\u003e\\u003c\\u002fextra\\u003e\",\"bagging_freq (IntDistribution): 0.0030177127269706452\\u003cextra\\u003e\\u003c\\u002fextra\\u003e\",\"bagging_fraction (FloatDistribution): 0.017661794690043867\\u003cextra\\u003e\\u003c\\u002fextra\\u003e\",\"min_data_in_leaf (IntDistribution): 0.030184583950933888\\u003cextra\\u003e\\u003c\\u002fextra\\u003e\",\"feature_fraction (FloatDistribution): 0.0317625337928325\\u003cextra\\u003e\\u003c\\u002fextra\\u003e\",\"learning_rate (FloatDistribution): 0.9148581590029133\\u003cextra\\u003e\\u003c\\u002fextra\\u003e\"],\"name\":\"Objective Value\",\"orientation\":\"h\",\"text\":[\"\\u003c0.01\",\"\\u003c0.01\",\"\\u003c0.01\",\"\\u003c0.01\",\"0.02\",\"0.03\",\"0.03\",\"0.91\"],\"textposition\":\"outside\",\"x\":[0.0005794270225780751,0.0008172226047838298,0.0011185662089439597,0.0030177127269706452,0.017661794690043867,0.030184583950933888,0.0317625337928325,0.9148581590029133],\"y\":[\"lambda_l1\",\"num_leaves\",\"lambda_l2\",\"bagging_freq\",\"bagging_fraction\",\"min_data_in_leaf\",\"feature_fraction\",\"learning_rate\"],\"type\":\"bar\"}],                        {\"title\":{\"text\":\"Hyperparameter Importances\"},\"xaxis\":{\"title\":{\"text\":\"Hyperparameter Importance\"}},\"yaxis\":{\"title\":{\"text\":\"Hyperparameter\"}},\"template\":{\"data\":{\"histogram2dcontour\":[{\"type\":\"histogram2dcontour\",\"colorbar\":{\"outlinewidth\":0,\"ticks\":\"\"},\"colorscale\":[[0.0,\"#0d0887\"],[0.1111111111111111,\"#46039f\"],[0.2222222222222222,\"#7201a8\"],[0.3333333333333333,\"#9c179e\"],[0.4444444444444444,\"#bd3786\"],[0.5555555555555556,\"#d8576b\"],[0.6666666666666666,\"#ed7953\"],[0.7777777777777778,\"#fb9f3a\"],[0.8888888888888888,\"#fdca26\"],[1.0,\"#f0f921\"]]}],\"choropleth\":[{\"type\":\"choropleth\",\"colorbar\":{\"outlinewidth\":0,\"ticks\":\"\"}}],\"histogram2d\":[{\"type\":\"histogram2d\",\"colorbar\":{\"outlinewidth\":0,\"ticks\":\"\"},\"colorscale\":[[0.0,\"#0d0887\"],[0.1111111111111111,\"#46039f\"],[0.2222222222222222,\"#7201a8\"],[0.3333333333333333,\"#9c179e\"],[0.4444444444444444,\"#bd3786\"],[0.5555555555555556,\"#d8576b\"],[0.6666666666666666,\"#ed7953\"],[0.7777777777777778,\"#fb9f3a\"],[0.8888888888888888,\"#fdca26\"],[1.0,\"#f0f921\"]]}],\"heatmap\":[{\"type\":\"heatmap\",\"colorbar\":{\"outlinewidth\":0,\"ticks\":\"\"},\"colorscale\":[[0.0,\"#0d0887\"],[0.1111111111111111,\"#46039f\"],[0.2222222222222222,\"#7201a8\"],[0.3333333333333333,\"#9c179e\"],[0.4444444444444444,\"#bd3786\"],[0.5555555555555556,\"#d8576b\"],[0.6666666666666666,\"#ed7953\"],[0.7777777777777778,\"#fb9f3a\"],[0.8888888888888888,\"#fdca26\"],[1.0,\"#f0f921\"]]}],\"heatmapgl\":[{\"type\":\"heatmapgl\",\"colorbar\":{\"outlinewidth\":0,\"ticks\":\"\"},\"colorscale\":[[0.0,\"#0d0887\"],[0.1111111111111111,\"#46039f\"],[0.2222222222222222,\"#7201a8\"],[0.3333333333333333,\"#9c179e\"],[0.4444444444444444,\"#bd3786\"],[0.5555555555555556,\"#d8576b\"],[0.6666666666666666,\"#ed7953\"],[0.7777777777777778,\"#fb9f3a\"],[0.8888888888888888,\"#fdca26\"],[1.0,\"#f0f921\"]]}],\"contourcarpet\":[{\"type\":\"contourcarpet\",\"colorbar\":{\"outlinewidth\":0,\"ticks\":\"\"}}],\"contour\":[{\"type\":\"contour\",\"colorbar\":{\"outlinewidth\":0,\"ticks\":\"\"},\"colorscale\":[[0.0,\"#0d0887\"],[0.1111111111111111,\"#46039f\"],[0.2222222222222222,\"#7201a8\"],[0.3333333333333333,\"#9c179e\"],[0.4444444444444444,\"#bd3786\"],[0.5555555555555556,\"#d8576b\"],[0.6666666666666666,\"#ed7953\"],[0.7777777777777778,\"#fb9f3a\"],[0.8888888888888888,\"#fdca26\"],[1.0,\"#f0f921\"]]}],\"surface\":[{\"type\":\"surface\",\"colorbar\":{\"outlinewidth\":0,\"ticks\":\"\"},\"colorscale\":[[0.0,\"#0d0887\"],[0.1111111111111111,\"#46039f\"],[0.2222222222222222,\"#7201a8\"],[0.3333333333333333,\"#9c179e\"],[0.4444444444444444,\"#bd3786\"],[0.5555555555555556,\"#d8576b\"],[0.6666666666666666,\"#ed7953\"],[0.7777777777777778,\"#fb9f3a\"],[0.8888888888888888,\"#fdca26\"],[1.0,\"#f0f921\"]]}],\"mesh3d\":[{\"type\":\"mesh3d\",\"colorbar\":{\"outlinewidth\":0,\"ticks\":\"\"}}],\"scatter\":[{\"fillpattern\":{\"fillmode\":\"overlay\",\"size\":10,\"solidity\":0.2},\"type\":\"scatter\"}],\"parcoords\":[{\"type\":\"parcoords\",\"line\":{\"colorbar\":{\"outlinewidth\":0,\"ticks\":\"\"}}}],\"scatterpolargl\":[{\"type\":\"scatterpolargl\",\"marker\":{\"colorbar\":{\"outlinewidth\":0,\"ticks\":\"\"}}}],\"bar\":[{\"error_x\":{\"color\":\"#2a3f5f\"},\"error_y\":{\"color\":\"#2a3f5f\"},\"marker\":{\"line\":{\"color\":\"#E5ECF6\",\"width\":0.5},\"pattern\":{\"fillmode\":\"overlay\",\"size\":10,\"solidity\":0.2}},\"type\":\"bar\"}],\"scattergeo\":[{\"type\":\"scattergeo\",\"marker\":{\"colorbar\":{\"outlinewidth\":0,\"ticks\":\"\"}}}],\"scatterpolar\":[{\"type\":\"scatterpolar\",\"marker\":{\"colorbar\":{\"outlinewidth\":0,\"ticks\":\"\"}}}],\"histogram\":[{\"marker\":{\"pattern\":{\"fillmode\":\"overlay\",\"size\":10,\"solidity\":0.2}},\"type\":\"histogram\"}],\"scattergl\":[{\"type\":\"scattergl\",\"marker\":{\"colorbar\":{\"outlinewidth\":0,\"ticks\":\"\"}}}],\"scatter3d\":[{\"type\":\"scatter3d\",\"line\":{\"colorbar\":{\"outlinewidth\":0,\"ticks\":\"\"}},\"marker\":{\"colorbar\":{\"outlinewidth\":0,\"ticks\":\"\"}}}],\"scattermapbox\":[{\"type\":\"scattermapbox\",\"marker\":{\"colorbar\":{\"outlinewidth\":0,\"ticks\":\"\"}}}],\"scatterternary\":[{\"type\":\"scatterternary\",\"marker\":{\"colorbar\":{\"outlinewidth\":0,\"ticks\":\"\"}}}],\"scattercarpet\":[{\"type\":\"scattercarpet\",\"marker\":{\"colorbar\":{\"outlinewidth\":0,\"ticks\":\"\"}}}],\"carpet\":[{\"aaxis\":{\"endlinecolor\":\"#2a3f5f\",\"gridcolor\":\"white\",\"linecolor\":\"white\",\"minorgridcolor\":\"white\",\"startlinecolor\":\"#2a3f5f\"},\"baxis\":{\"endlinecolor\":\"#2a3f5f\",\"gridcolor\":\"white\",\"linecolor\":\"white\",\"minorgridcolor\":\"white\",\"startlinecolor\":\"#2a3f5f\"},\"type\":\"carpet\"}],\"table\":[{\"cells\":{\"fill\":{\"color\":\"#EBF0F8\"},\"line\":{\"color\":\"white\"}},\"header\":{\"fill\":{\"color\":\"#C8D4E3\"},\"line\":{\"color\":\"white\"}},\"type\":\"table\"}],\"barpolar\":[{\"marker\":{\"line\":{\"color\":\"#E5ECF6\",\"width\":0.5},\"pattern\":{\"fillmode\":\"overlay\",\"size\":10,\"solidity\":0.2}},\"type\":\"barpolar\"}],\"pie\":[{\"automargin\":true,\"type\":\"pie\"}]},\"layout\":{\"autotypenumbers\":\"strict\",\"colorway\":[\"#636efa\",\"#EF553B\",\"#00cc96\",\"#ab63fa\",\"#FFA15A\",\"#19d3f3\",\"#FF6692\",\"#B6E880\",\"#FF97FF\",\"#FECB52\"],\"font\":{\"color\":\"#2a3f5f\"},\"hovermode\":\"closest\",\"hoverlabel\":{\"align\":\"left\"},\"paper_bgcolor\":\"white\",\"plot_bgcolor\":\"#E5ECF6\",\"polar\":{\"bgcolor\":\"#E5ECF6\",\"angularaxis\":{\"gridcolor\":\"white\",\"linecolor\":\"white\",\"ticks\":\"\"},\"radialaxis\":{\"gridcolor\":\"white\",\"linecolor\":\"white\",\"ticks\":\"\"}},\"ternary\":{\"bgcolor\":\"#E5ECF6\",\"aaxis\":{\"gridcolor\":\"white\",\"linecolor\":\"white\",\"ticks\":\"\"},\"baxis\":{\"gridcolor\":\"white\",\"linecolor\":\"white\",\"ticks\":\"\"},\"caxis\":{\"gridcolor\":\"white\",\"linecolor\":\"white\",\"ticks\":\"\"}},\"coloraxis\":{\"colorbar\":{\"outlinewidth\":0,\"ticks\":\"\"}},\"colorscale\":{\"sequential\":[[0.0,\"#0d0887\"],[0.1111111111111111,\"#46039f\"],[0.2222222222222222,\"#7201a8\"],[0.3333333333333333,\"#9c179e\"],[0.4444444444444444,\"#bd3786\"],[0.5555555555555556,\"#d8576b\"],[0.6666666666666666,\"#ed7953\"],[0.7777777777777778,\"#fb9f3a\"],[0.8888888888888888,\"#fdca26\"],[1.0,\"#f0f921\"]],\"sequentialminus\":[[0.0,\"#0d0887\"],[0.1111111111111111,\"#46039f\"],[0.2222222222222222,\"#7201a8\"],[0.3333333333333333,\"#9c179e\"],[0.4444444444444444,\"#bd3786\"],[0.5555555555555556,\"#d8576b\"],[0.6666666666666666,\"#ed7953\"],[0.7777777777777778,\"#fb9f3a\"],[0.8888888888888888,\"#fdca26\"],[1.0,\"#f0f921\"]],\"diverging\":[[0,\"#8e0152\"],[0.1,\"#c51b7d\"],[0.2,\"#de77ae\"],[0.3,\"#f1b6da\"],[0.4,\"#fde0ef\"],[0.5,\"#f7f7f7\"],[0.6,\"#e6f5d0\"],[0.7,\"#b8e186\"],[0.8,\"#7fbc41\"],[0.9,\"#4d9221\"],[1,\"#276419\"]]},\"xaxis\":{\"gridcolor\":\"white\",\"linecolor\":\"white\",\"ticks\":\"\",\"title\":{\"standoff\":15},\"zerolinecolor\":\"white\",\"automargin\":true,\"zerolinewidth\":2},\"yaxis\":{\"gridcolor\":\"white\",\"linecolor\":\"white\",\"ticks\":\"\",\"title\":{\"standoff\":15},\"zerolinecolor\":\"white\",\"automargin\":true,\"zerolinewidth\":2},\"scene\":{\"xaxis\":{\"backgroundcolor\":\"#E5ECF6\",\"gridcolor\":\"white\",\"linecolor\":\"white\",\"showbackground\":true,\"ticks\":\"\",\"zerolinecolor\":\"white\",\"gridwidth\":2},\"yaxis\":{\"backgroundcolor\":\"#E5ECF6\",\"gridcolor\":\"white\",\"linecolor\":\"white\",\"showbackground\":true,\"ticks\":\"\",\"zerolinecolor\":\"white\",\"gridwidth\":2},\"zaxis\":{\"backgroundcolor\":\"#E5ECF6\",\"gridcolor\":\"white\",\"linecolor\":\"white\",\"showbackground\":true,\"ticks\":\"\",\"zerolinecolor\":\"white\",\"gridwidth\":2}},\"shapedefaults\":{\"line\":{\"color\":\"#2a3f5f\"}},\"annotationdefaults\":{\"arrowcolor\":\"#2a3f5f\",\"arrowhead\":0,\"arrowwidth\":1},\"geo\":{\"bgcolor\":\"white\",\"landcolor\":\"#E5ECF6\",\"subunitcolor\":\"white\",\"showland\":true,\"showlakes\":true,\"lakecolor\":\"white\"},\"title\":{\"x\":0.05},\"mapbox\":{\"style\":\"light\"}}}},                        {\"responsive\": true}                    ).then(function(){\n",
              "                            \n",
              "var gd = document.getElementById('d0aee0a0-6520-46e4-a57f-746502548d7c');\n",
              "var x = new MutationObserver(function (mutations, observer) {{\n",
              "        var display = window.getComputedStyle(gd).display;\n",
              "        if (!display || display === 'none') {{\n",
              "            console.log([gd, 'removed!']);\n",
              "            Plotly.purge(gd);\n",
              "            observer.disconnect();\n",
              "        }}\n",
              "}});\n",
              "\n",
              "// Listen for the removal of the full notebook cells\n",
              "var notebookContainer = gd.closest('#notebook-container');\n",
              "if (notebookContainer) {{\n",
              "    x.observe(notebookContainer, {childList: true});\n",
              "}}\n",
              "\n",
              "// Listen for the clearing of the current output cell\n",
              "var outputEl = gd.closest('.output');\n",
              "if (outputEl) {{\n",
              "    x.observe(outputEl, {childList: true});\n",
              "}}\n",
              "\n",
              "                        })                };                            </script>        </div>\n",
              "</body>\n",
              "</html>"
            ]
          },
          "metadata": {}
        }
      ]
    },
    {
      "cell_type": "markdown",
      "source": [
        "# CMAES"
      ],
      "metadata": {
        "id": "gWJpbeR_JYXO"
      }
    },
    {
      "cell_type": "code",
      "source": [
        "import lightgbm as lgb\n",
        "import numpy as np\n",
        "from sklearn.metrics import accuracy_score\n",
        "from cmaes import CMA\n",
        "from sklearn.model_selection import StratifiedKFold\n",
        "\n",
        "categorical_features = ['buying', 'maint', 'lug_boot', 'safety']\n",
        "train_data = lgb.Dataset(x_train, label=y_train, categorical_feature=categorical_features, free_raw_data=False)\n",
        "test_data = lgb.Dataset(x_test, label=y_test, reference=train_data, free_raw_data=False)\n",
        "\n",
        "initial_params = {\n",
        "    'objective': 'multiclass',\n",
        "    'metric': 'multi_logloss',\n",
        "    'num_class': len(np.unique(y)),\n",
        "    'is_unbalance': 'true',\n",
        "    'boosting_type': 'gbdt',\n",
        "    'verbose': -1\n",
        "}\n",
        "\n",
        "bounds = {\n",
        "    \"learning_rate\": (0.01, 0.3),\n",
        "    \"num_leaves\": (20, 150),\n",
        "    \"min_data_in_leaf\": (20, 100),\n",
        "    \"feature_fraction\": (0.5, 0.9),\n",
        "    \"bagging_fraction\": (0.5, 0.9),\n",
        "    \"bagging_freq\": (1, 10),\n",
        "    \"lambda_l1\": (1e-8, 10.0),\n",
        "    \"lambda_l2\": (1e-8, 10.0)\n",
        "}\n",
        "\n",
        "cma_optimizer = CMA(mean=np.array([0.05, 31, 20, 0.7, 0.7, 5, 1e-2, 1e-2]), sigma=0.3)\n",
        "\n",
        "def objective_cma(x):\n",
        "    params = {\n",
        "        **initial_params,\n",
        "        \"learning_rate\": x[0],\n",
        "        \"num_leaves\": int(x[1]),\n",
        "        \"min_data_in_leaf\": int(x[2]),\n",
        "        \"feature_fraction\": x[3],\n",
        "        \"bagging_fraction\": x[4],\n",
        "        \"bagging_freq\": int(x[5]),\n",
        "        \"lambda_l1\": x[6],\n",
        "        \"lambda_l2\": x[7]\n",
        "    }\n",
        "\n",
        "    lgb_model = lgb.train(params, train_data, valid_sets=[train_data, test_data], num_boost_round=10)\n",
        "\n",
        "    y_pred = lgb_model.predict(x_test, num_iteration=lgb_model.best_iteration)\n",
        "    y_pred_class = [list(pred).index(max(pred)) for pred in y_pred]\n",
        "    accuracy = accuracy_score(y_test, y_pred_class)\n",
        "\n",
        "    return -accuracy  # CMA-ES minimizes, so return negative accuracy\n",
        "\n"
      ],
      "metadata": {
        "id": "jsrdj2oEJZ0w"
      },
      "execution_count": 32,
      "outputs": []
    },
    {
      "cell_type": "code",
      "source": [
        "num_generations = 100\n",
        "best_accuracy = -float('inf')\n",
        "best_params = None\n",
        "\n",
        "for generation in range(num_generations):\n",
        "    solutions = []\n",
        "\n",
        "    for _ in range(cma_optimizer.population_size):\n",
        "        x = cma_optimizer.ask()\n",
        "\n",
        "        x = np.clip(x, [b[0] for b in bounds.values()], [b[1] for b in bounds.values()])\n",
        "        loss = objective_cma(x)\n",
        "\n",
        "        solutions.append((x, loss))\n",
        "\n",
        "        if -loss > best_accuracy:\n",
        "            best_accuracy = -loss\n",
        "            best_params = x\n",
        "\n",
        "    cma_optimizer.tell(solutions)\n",
        "\n",
        "print(\"Best Accuracy:\", best_accuracy)\n",
        "print(\"Best Hyperparameters:\", best_params)"
      ],
      "metadata": {
        "colab": {
          "base_uri": "https://localhost:8080/"
        },
        "id": "KsnPBN9LJ5hP",
        "outputId": "1dd0cc90-5d20-4c25-e90b-8cc37eaecbc3"
      },
      "execution_count": 33,
      "outputs": [
        {
          "output_type": "stream",
          "name": "stdout",
          "text": [
            "Best Accuracy: 0.9710982658959537\n",
            "Best Hyperparameters: [ 0.3        30.68303022 21.14787634  0.79418248  0.83567466  4.62927464\n",
            "  0.08125792  0.05440454]\n"
          ]
        }
      ]
    }
  ]
}